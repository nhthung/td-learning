{
  "nbformat": 4,
  "nbformat_minor": 0,
  "metadata": {
    "kernelspec": {
      "display_name": "Python 3",
      "language": "python",
      "name": "python3"
    },
    "language_info": {
      "codemirror_mode": {
        "name": "ipython",
        "version": 3
      },
      "file_extension": ".py",
      "mimetype": "text/x-python",
      "name": "python",
      "nbconvert_exporter": "python",
      "pygments_lexer": "ipython3",
      "version": "3.7.3"
    },
    "colab": {
      "name": "watermaze_hung_le_260793376.ipynb",
      "provenance": [],
      "collapsed_sections": [
        "MYLC3RHOFeTx",
        "k7oJQ0O7X6NP",
        "LUK0HjLnXAAe",
        "nDuyn-7zFoaP",
        "sdN8-XsZsNl2",
        "QPMtsos0QALf"
      ]
    },
    "widgets": {
      "application/vnd.jupyter.widget-state+json": {
        "8fcb4840f29c491d905b43397fb318ef": {
          "model_module": "@jupyter-widgets/controls",
          "model_name": "HBoxModel",
          "state": {
            "_view_name": "HBoxView",
            "_dom_classes": [],
            "_model_name": "HBoxModel",
            "_view_module": "@jupyter-widgets/controls",
            "_model_module_version": "1.5.0",
            "_view_count": null,
            "_view_module_version": "1.5.0",
            "box_style": "",
            "layout": "IPY_MODEL_93365fdcd3fa4a88947763321b161f97",
            "_model_module": "@jupyter-widgets/controls",
            "children": [
              "IPY_MODEL_8d5c13b71e72434383d96322864e72fd",
              "IPY_MODEL_1fdf616523e641ccbba25c2b24e83089"
            ]
          }
        },
        "93365fdcd3fa4a88947763321b161f97": {
          "model_module": "@jupyter-widgets/base",
          "model_name": "LayoutModel",
          "state": {
            "_view_name": "LayoutView",
            "grid_template_rows": null,
            "right": null,
            "justify_content": null,
            "_view_module": "@jupyter-widgets/base",
            "overflow": null,
            "_model_module_version": "1.2.0",
            "_view_count": null,
            "flex_flow": null,
            "width": null,
            "min_width": null,
            "border": null,
            "align_items": null,
            "bottom": null,
            "_model_module": "@jupyter-widgets/base",
            "top": null,
            "grid_column": null,
            "overflow_y": null,
            "overflow_x": null,
            "grid_auto_flow": null,
            "grid_area": null,
            "grid_template_columns": null,
            "flex": null,
            "_model_name": "LayoutModel",
            "justify_items": null,
            "grid_row": null,
            "max_height": null,
            "align_content": null,
            "visibility": null,
            "align_self": null,
            "height": null,
            "min_height": null,
            "padding": null,
            "grid_auto_rows": null,
            "grid_gap": null,
            "max_width": null,
            "order": null,
            "_view_module_version": "1.2.0",
            "grid_template_areas": null,
            "object_position": null,
            "object_fit": null,
            "grid_auto_columns": null,
            "margin": null,
            "display": null,
            "left": null
          }
        },
        "8d5c13b71e72434383d96322864e72fd": {
          "model_module": "@jupyter-widgets/controls",
          "model_name": "IntProgressModel",
          "state": {
            "_view_name": "ProgressView",
            "style": "IPY_MODEL_33c29e97b8b144298aaf02745d51df29",
            "_dom_classes": [],
            "description": "100%",
            "_model_name": "IntProgressModel",
            "bar_style": "success",
            "max": 500,
            "_view_module": "@jupyter-widgets/controls",
            "_model_module_version": "1.5.0",
            "value": 500,
            "_view_count": null,
            "_view_module_version": "1.5.0",
            "orientation": "horizontal",
            "min": 0,
            "description_tooltip": null,
            "_model_module": "@jupyter-widgets/controls",
            "layout": "IPY_MODEL_946f091dc3d244f8ba50275bcf30fbf7"
          }
        },
        "1fdf616523e641ccbba25c2b24e83089": {
          "model_module": "@jupyter-widgets/controls",
          "model_name": "HTMLModel",
          "state": {
            "_view_name": "HTMLView",
            "style": "IPY_MODEL_d7ed0fc1f36d43418be8c3731da71be2",
            "_dom_classes": [],
            "description": "",
            "_model_name": "HTMLModel",
            "placeholder": "​",
            "_view_module": "@jupyter-widgets/controls",
            "_model_module_version": "1.5.0",
            "value": " 500/500 [09:33&lt;00:00,  1.15s/it]",
            "_view_count": null,
            "_view_module_version": "1.5.0",
            "description_tooltip": null,
            "_model_module": "@jupyter-widgets/controls",
            "layout": "IPY_MODEL_49051a1b9157436ba00475ab8843b463"
          }
        },
        "33c29e97b8b144298aaf02745d51df29": {
          "model_module": "@jupyter-widgets/controls",
          "model_name": "ProgressStyleModel",
          "state": {
            "_view_name": "StyleView",
            "_model_name": "ProgressStyleModel",
            "description_width": "initial",
            "_view_module": "@jupyter-widgets/base",
            "_model_module_version": "1.5.0",
            "_view_count": null,
            "_view_module_version": "1.2.0",
            "bar_color": null,
            "_model_module": "@jupyter-widgets/controls"
          }
        },
        "946f091dc3d244f8ba50275bcf30fbf7": {
          "model_module": "@jupyter-widgets/base",
          "model_name": "LayoutModel",
          "state": {
            "_view_name": "LayoutView",
            "grid_template_rows": null,
            "right": null,
            "justify_content": null,
            "_view_module": "@jupyter-widgets/base",
            "overflow": null,
            "_model_module_version": "1.2.0",
            "_view_count": null,
            "flex_flow": null,
            "width": null,
            "min_width": null,
            "border": null,
            "align_items": null,
            "bottom": null,
            "_model_module": "@jupyter-widgets/base",
            "top": null,
            "grid_column": null,
            "overflow_y": null,
            "overflow_x": null,
            "grid_auto_flow": null,
            "grid_area": null,
            "grid_template_columns": null,
            "flex": null,
            "_model_name": "LayoutModel",
            "justify_items": null,
            "grid_row": null,
            "max_height": null,
            "align_content": null,
            "visibility": null,
            "align_self": null,
            "height": null,
            "min_height": null,
            "padding": null,
            "grid_auto_rows": null,
            "grid_gap": null,
            "max_width": null,
            "order": null,
            "_view_module_version": "1.2.0",
            "grid_template_areas": null,
            "object_position": null,
            "object_fit": null,
            "grid_auto_columns": null,
            "margin": null,
            "display": null,
            "left": null
          }
        },
        "d7ed0fc1f36d43418be8c3731da71be2": {
          "model_module": "@jupyter-widgets/controls",
          "model_name": "DescriptionStyleModel",
          "state": {
            "_view_name": "StyleView",
            "_model_name": "DescriptionStyleModel",
            "description_width": "",
            "_view_module": "@jupyter-widgets/base",
            "_model_module_version": "1.5.0",
            "_view_count": null,
            "_view_module_version": "1.2.0",
            "_model_module": "@jupyter-widgets/controls"
          }
        },
        "49051a1b9157436ba00475ab8843b463": {
          "model_module": "@jupyter-widgets/base",
          "model_name": "LayoutModel",
          "state": {
            "_view_name": "LayoutView",
            "grid_template_rows": null,
            "right": null,
            "justify_content": null,
            "_view_module": "@jupyter-widgets/base",
            "overflow": null,
            "_model_module_version": "1.2.0",
            "_view_count": null,
            "flex_flow": null,
            "width": null,
            "min_width": null,
            "border": null,
            "align_items": null,
            "bottom": null,
            "_model_module": "@jupyter-widgets/base",
            "top": null,
            "grid_column": null,
            "overflow_y": null,
            "overflow_x": null,
            "grid_auto_flow": null,
            "grid_area": null,
            "grid_template_columns": null,
            "flex": null,
            "_model_name": "LayoutModel",
            "justify_items": null,
            "grid_row": null,
            "max_height": null,
            "align_content": null,
            "visibility": null,
            "align_self": null,
            "height": null,
            "min_height": null,
            "padding": null,
            "grid_auto_rows": null,
            "grid_gap": null,
            "max_width": null,
            "order": null,
            "_view_module_version": "1.2.0",
            "grid_template_areas": null,
            "object_position": null,
            "object_fit": null,
            "grid_auto_columns": null,
            "margin": null,
            "display": null,
            "left": null
          }
        },
        "ed4780436297472fb1a0bc57a23d2bb0": {
          "model_module": "@jupyter-widgets/controls",
          "model_name": "HBoxModel",
          "state": {
            "_view_name": "HBoxView",
            "_dom_classes": [],
            "_model_name": "HBoxModel",
            "_view_module": "@jupyter-widgets/controls",
            "_model_module_version": "1.5.0",
            "_view_count": null,
            "_view_module_version": "1.5.0",
            "box_style": "",
            "layout": "IPY_MODEL_7a2f89930a874c26bb325fe87a64e238",
            "_model_module": "@jupyter-widgets/controls",
            "children": [
              "IPY_MODEL_e9903d4761fa4d25b030765b6dfbf207",
              "IPY_MODEL_980c8042e9e8498ba9a0f3dc058b9ad6"
            ]
          }
        },
        "7a2f89930a874c26bb325fe87a64e238": {
          "model_module": "@jupyter-widgets/base",
          "model_name": "LayoutModel",
          "state": {
            "_view_name": "LayoutView",
            "grid_template_rows": null,
            "right": null,
            "justify_content": null,
            "_view_module": "@jupyter-widgets/base",
            "overflow": null,
            "_model_module_version": "1.2.0",
            "_view_count": null,
            "flex_flow": null,
            "width": null,
            "min_width": null,
            "border": null,
            "align_items": null,
            "bottom": null,
            "_model_module": "@jupyter-widgets/base",
            "top": null,
            "grid_column": null,
            "overflow_y": null,
            "overflow_x": null,
            "grid_auto_flow": null,
            "grid_area": null,
            "grid_template_columns": null,
            "flex": null,
            "_model_name": "LayoutModel",
            "justify_items": null,
            "grid_row": null,
            "max_height": null,
            "align_content": null,
            "visibility": null,
            "align_self": null,
            "height": null,
            "min_height": null,
            "padding": null,
            "grid_auto_rows": null,
            "grid_gap": null,
            "max_width": null,
            "order": null,
            "_view_module_version": "1.2.0",
            "grid_template_areas": null,
            "object_position": null,
            "object_fit": null,
            "grid_auto_columns": null,
            "margin": null,
            "display": null,
            "left": null
          }
        },
        "e9903d4761fa4d25b030765b6dfbf207": {
          "model_module": "@jupyter-widgets/controls",
          "model_name": "IntProgressModel",
          "state": {
            "_view_name": "ProgressView",
            "style": "IPY_MODEL_ce4334f5547d40a68a554b7623386cf0",
            "_dom_classes": [],
            "description": "100%",
            "_model_name": "IntProgressModel",
            "bar_style": "success",
            "max": 100,
            "_view_module": "@jupyter-widgets/controls",
            "_model_module_version": "1.5.0",
            "value": 100,
            "_view_count": null,
            "_view_module_version": "1.5.0",
            "orientation": "horizontal",
            "min": 0,
            "description_tooltip": null,
            "_model_module": "@jupyter-widgets/controls",
            "layout": "IPY_MODEL_cfb8aa783b744631848df9aef6fe7061"
          }
        },
        "980c8042e9e8498ba9a0f3dc058b9ad6": {
          "model_module": "@jupyter-widgets/controls",
          "model_name": "HTMLModel",
          "state": {
            "_view_name": "HTMLView",
            "style": "IPY_MODEL_d16408e7bbbd4239b80e589b09157642",
            "_dom_classes": [],
            "description": "",
            "_model_name": "HTMLModel",
            "placeholder": "​",
            "_view_module": "@jupyter-widgets/controls",
            "_model_module_version": "1.5.0",
            "value": " 100/100 [47:44&lt;00:00, 28.65s/it]",
            "_view_count": null,
            "_view_module_version": "1.5.0",
            "description_tooltip": null,
            "_model_module": "@jupyter-widgets/controls",
            "layout": "IPY_MODEL_34f90d0294684753994407d9eece6289"
          }
        },
        "ce4334f5547d40a68a554b7623386cf0": {
          "model_module": "@jupyter-widgets/controls",
          "model_name": "ProgressStyleModel",
          "state": {
            "_view_name": "StyleView",
            "_model_name": "ProgressStyleModel",
            "description_width": "initial",
            "_view_module": "@jupyter-widgets/base",
            "_model_module_version": "1.5.0",
            "_view_count": null,
            "_view_module_version": "1.2.0",
            "bar_color": null,
            "_model_module": "@jupyter-widgets/controls"
          }
        },
        "cfb8aa783b744631848df9aef6fe7061": {
          "model_module": "@jupyter-widgets/base",
          "model_name": "LayoutModel",
          "state": {
            "_view_name": "LayoutView",
            "grid_template_rows": null,
            "right": null,
            "justify_content": null,
            "_view_module": "@jupyter-widgets/base",
            "overflow": null,
            "_model_module_version": "1.2.0",
            "_view_count": null,
            "flex_flow": null,
            "width": null,
            "min_width": null,
            "border": null,
            "align_items": null,
            "bottom": null,
            "_model_module": "@jupyter-widgets/base",
            "top": null,
            "grid_column": null,
            "overflow_y": null,
            "overflow_x": null,
            "grid_auto_flow": null,
            "grid_area": null,
            "grid_template_columns": null,
            "flex": null,
            "_model_name": "LayoutModel",
            "justify_items": null,
            "grid_row": null,
            "max_height": null,
            "align_content": null,
            "visibility": null,
            "align_self": null,
            "height": null,
            "min_height": null,
            "padding": null,
            "grid_auto_rows": null,
            "grid_gap": null,
            "max_width": null,
            "order": null,
            "_view_module_version": "1.2.0",
            "grid_template_areas": null,
            "object_position": null,
            "object_fit": null,
            "grid_auto_columns": null,
            "margin": null,
            "display": null,
            "left": null
          }
        },
        "d16408e7bbbd4239b80e589b09157642": {
          "model_module": "@jupyter-widgets/controls",
          "model_name": "DescriptionStyleModel",
          "state": {
            "_view_name": "StyleView",
            "_model_name": "DescriptionStyleModel",
            "description_width": "",
            "_view_module": "@jupyter-widgets/base",
            "_model_module_version": "1.5.0",
            "_view_count": null,
            "_view_module_version": "1.2.0",
            "_model_module": "@jupyter-widgets/controls"
          }
        },
        "34f90d0294684753994407d9eece6289": {
          "model_module": "@jupyter-widgets/base",
          "model_name": "LayoutModel",
          "state": {
            "_view_name": "LayoutView",
            "grid_template_rows": null,
            "right": null,
            "justify_content": null,
            "_view_module": "@jupyter-widgets/base",
            "overflow": null,
            "_model_module_version": "1.2.0",
            "_view_count": null,
            "flex_flow": null,
            "width": null,
            "min_width": null,
            "border": null,
            "align_items": null,
            "bottom": null,
            "_model_module": "@jupyter-widgets/base",
            "top": null,
            "grid_column": null,
            "overflow_y": null,
            "overflow_x": null,
            "grid_auto_flow": null,
            "grid_area": null,
            "grid_template_columns": null,
            "flex": null,
            "_model_name": "LayoutModel",
            "justify_items": null,
            "grid_row": null,
            "max_height": null,
            "align_content": null,
            "visibility": null,
            "align_self": null,
            "height": null,
            "min_height": null,
            "padding": null,
            "grid_auto_rows": null,
            "grid_gap": null,
            "max_width": null,
            "order": null,
            "_view_module_version": "1.2.0",
            "grid_template_areas": null,
            "object_position": null,
            "object_fit": null,
            "grid_auto_columns": null,
            "margin": null,
            "display": null,
            "left": null
          }
        },
        "56a9b79a8f4d4efcbf9195f8827882bf": {
          "model_module": "@jupyter-widgets/controls",
          "model_name": "HBoxModel",
          "state": {
            "_view_name": "HBoxView",
            "_dom_classes": [],
            "_model_name": "HBoxModel",
            "_view_module": "@jupyter-widgets/controls",
            "_model_module_version": "1.5.0",
            "_view_count": null,
            "_view_module_version": "1.5.0",
            "box_style": "",
            "layout": "IPY_MODEL_e50979f8e93d4a83a9741ff4b92748f1",
            "_model_module": "@jupyter-widgets/controls",
            "children": [
              "IPY_MODEL_1dbac21bf6e84068badc68d72437d3e2",
              "IPY_MODEL_f0ff6d8356ee47a18091cbdbba307337"
            ]
          }
        },
        "e50979f8e93d4a83a9741ff4b92748f1": {
          "model_module": "@jupyter-widgets/base",
          "model_name": "LayoutModel",
          "state": {
            "_view_name": "LayoutView",
            "grid_template_rows": null,
            "right": null,
            "justify_content": null,
            "_view_module": "@jupyter-widgets/base",
            "overflow": null,
            "_model_module_version": "1.2.0",
            "_view_count": null,
            "flex_flow": null,
            "width": null,
            "min_width": null,
            "border": null,
            "align_items": null,
            "bottom": null,
            "_model_module": "@jupyter-widgets/base",
            "top": null,
            "grid_column": null,
            "overflow_y": null,
            "overflow_x": null,
            "grid_auto_flow": null,
            "grid_area": null,
            "grid_template_columns": null,
            "flex": null,
            "_model_name": "LayoutModel",
            "justify_items": null,
            "grid_row": null,
            "max_height": null,
            "align_content": null,
            "visibility": null,
            "align_self": null,
            "height": null,
            "min_height": null,
            "padding": null,
            "grid_auto_rows": null,
            "grid_gap": null,
            "max_width": null,
            "order": null,
            "_view_module_version": "1.2.0",
            "grid_template_areas": null,
            "object_position": null,
            "object_fit": null,
            "grid_auto_columns": null,
            "margin": null,
            "display": null,
            "left": null
          }
        },
        "1dbac21bf6e84068badc68d72437d3e2": {
          "model_module": "@jupyter-widgets/controls",
          "model_name": "IntProgressModel",
          "state": {
            "_view_name": "ProgressView",
            "style": "IPY_MODEL_f93f4d4b7cc344faa692bb434fdc27a6",
            "_dom_classes": [],
            "description": "100%",
            "_model_name": "IntProgressModel",
            "bar_style": "success",
            "max": 9,
            "_view_module": "@jupyter-widgets/controls",
            "_model_module_version": "1.5.0",
            "value": 9,
            "_view_count": null,
            "_view_module_version": "1.5.0",
            "orientation": "horizontal",
            "min": 0,
            "description_tooltip": null,
            "_model_module": "@jupyter-widgets/controls",
            "layout": "IPY_MODEL_18c279792d644cbdb3b7152a45dece02"
          }
        },
        "f0ff6d8356ee47a18091cbdbba307337": {
          "model_module": "@jupyter-widgets/controls",
          "model_name": "HTMLModel",
          "state": {
            "_view_name": "HTMLView",
            "style": "IPY_MODEL_ac14a40c15f748f187b6134b7fda23d4",
            "_dom_classes": [],
            "description": "",
            "_model_name": "HTMLModel",
            "placeholder": "​",
            "_view_module": "@jupyter-widgets/controls",
            "_model_module_version": "1.5.0",
            "value": " 9/9 [00:05&lt;00:00,  1.72it/s]",
            "_view_count": null,
            "_view_module_version": "1.5.0",
            "description_tooltip": null,
            "_model_module": "@jupyter-widgets/controls",
            "layout": "IPY_MODEL_877c0d1082a14d34a4e98f0d6d9383ec"
          }
        },
        "f93f4d4b7cc344faa692bb434fdc27a6": {
          "model_module": "@jupyter-widgets/controls",
          "model_name": "ProgressStyleModel",
          "state": {
            "_view_name": "StyleView",
            "_model_name": "ProgressStyleModel",
            "description_width": "initial",
            "_view_module": "@jupyter-widgets/base",
            "_model_module_version": "1.5.0",
            "_view_count": null,
            "_view_module_version": "1.2.0",
            "bar_color": null,
            "_model_module": "@jupyter-widgets/controls"
          }
        },
        "18c279792d644cbdb3b7152a45dece02": {
          "model_module": "@jupyter-widgets/base",
          "model_name": "LayoutModel",
          "state": {
            "_view_name": "LayoutView",
            "grid_template_rows": null,
            "right": null,
            "justify_content": null,
            "_view_module": "@jupyter-widgets/base",
            "overflow": null,
            "_model_module_version": "1.2.0",
            "_view_count": null,
            "flex_flow": null,
            "width": null,
            "min_width": null,
            "border": null,
            "align_items": null,
            "bottom": null,
            "_model_module": "@jupyter-widgets/base",
            "top": null,
            "grid_column": null,
            "overflow_y": null,
            "overflow_x": null,
            "grid_auto_flow": null,
            "grid_area": null,
            "grid_template_columns": null,
            "flex": null,
            "_model_name": "LayoutModel",
            "justify_items": null,
            "grid_row": null,
            "max_height": null,
            "align_content": null,
            "visibility": null,
            "align_self": null,
            "height": null,
            "min_height": null,
            "padding": null,
            "grid_auto_rows": null,
            "grid_gap": null,
            "max_width": null,
            "order": null,
            "_view_module_version": "1.2.0",
            "grid_template_areas": null,
            "object_position": null,
            "object_fit": null,
            "grid_auto_columns": null,
            "margin": null,
            "display": null,
            "left": null
          }
        },
        "ac14a40c15f748f187b6134b7fda23d4": {
          "model_module": "@jupyter-widgets/controls",
          "model_name": "DescriptionStyleModel",
          "state": {
            "_view_name": "StyleView",
            "_model_name": "DescriptionStyleModel",
            "description_width": "",
            "_view_module": "@jupyter-widgets/base",
            "_model_module_version": "1.5.0",
            "_view_count": null,
            "_view_module_version": "1.2.0",
            "_model_module": "@jupyter-widgets/controls"
          }
        },
        "877c0d1082a14d34a4e98f0d6d9383ec": {
          "model_module": "@jupyter-widgets/base",
          "model_name": "LayoutModel",
          "state": {
            "_view_name": "LayoutView",
            "grid_template_rows": null,
            "right": null,
            "justify_content": null,
            "_view_module": "@jupyter-widgets/base",
            "overflow": null,
            "_model_module_version": "1.2.0",
            "_view_count": null,
            "flex_flow": null,
            "width": null,
            "min_width": null,
            "border": null,
            "align_items": null,
            "bottom": null,
            "_model_module": "@jupyter-widgets/base",
            "top": null,
            "grid_column": null,
            "overflow_y": null,
            "overflow_x": null,
            "grid_auto_flow": null,
            "grid_area": null,
            "grid_template_columns": null,
            "flex": null,
            "_model_name": "LayoutModel",
            "justify_items": null,
            "grid_row": null,
            "max_height": null,
            "align_content": null,
            "visibility": null,
            "align_self": null,
            "height": null,
            "min_height": null,
            "padding": null,
            "grid_auto_rows": null,
            "grid_gap": null,
            "max_width": null,
            "order": null,
            "_view_module_version": "1.2.0",
            "grid_template_areas": null,
            "object_position": null,
            "object_fit": null,
            "grid_auto_columns": null,
            "margin": null,
            "display": null,
            "left": null
          }
        },
        "07e629b87ded4e07aa8f642492795ca5": {
          "model_module": "@jupyter-widgets/controls",
          "model_name": "HBoxModel",
          "state": {
            "_view_name": "HBoxView",
            "_dom_classes": [],
            "_model_name": "HBoxModel",
            "_view_module": "@jupyter-widgets/controls",
            "_model_module_version": "1.5.0",
            "_view_count": null,
            "_view_module_version": "1.5.0",
            "box_style": "",
            "layout": "IPY_MODEL_a686f8538108407d8dddb57182bca2b1",
            "_model_module": "@jupyter-widgets/controls",
            "children": [
              "IPY_MODEL_d582727d515b4b4d8d7f8c73e3a18d5a",
              "IPY_MODEL_b82d4fad56fc449aa7b2a37e2822dd04"
            ]
          }
        },
        "a686f8538108407d8dddb57182bca2b1": {
          "model_module": "@jupyter-widgets/base",
          "model_name": "LayoutModel",
          "state": {
            "_view_name": "LayoutView",
            "grid_template_rows": null,
            "right": null,
            "justify_content": null,
            "_view_module": "@jupyter-widgets/base",
            "overflow": null,
            "_model_module_version": "1.2.0",
            "_view_count": null,
            "flex_flow": null,
            "width": null,
            "min_width": null,
            "border": null,
            "align_items": null,
            "bottom": null,
            "_model_module": "@jupyter-widgets/base",
            "top": null,
            "grid_column": null,
            "overflow_y": null,
            "overflow_x": null,
            "grid_auto_flow": null,
            "grid_area": null,
            "grid_template_columns": null,
            "flex": null,
            "_model_name": "LayoutModel",
            "justify_items": null,
            "grid_row": null,
            "max_height": null,
            "align_content": null,
            "visibility": null,
            "align_self": null,
            "height": null,
            "min_height": null,
            "padding": null,
            "grid_auto_rows": null,
            "grid_gap": null,
            "max_width": null,
            "order": null,
            "_view_module_version": "1.2.0",
            "grid_template_areas": null,
            "object_position": null,
            "object_fit": null,
            "grid_auto_columns": null,
            "margin": null,
            "display": null,
            "left": null
          }
        },
        "d582727d515b4b4d8d7f8c73e3a18d5a": {
          "model_module": "@jupyter-widgets/controls",
          "model_name": "IntProgressModel",
          "state": {
            "_view_name": "ProgressView",
            "style": "IPY_MODEL_ca47496b424642ccb6b9075489a1910a",
            "_dom_classes": [],
            "description": "100%",
            "_model_name": "IntProgressModel",
            "bar_style": "success",
            "max": 9,
            "_view_module": "@jupyter-widgets/controls",
            "_model_module_version": "1.5.0",
            "value": 9,
            "_view_count": null,
            "_view_module_version": "1.5.0",
            "orientation": "horizontal",
            "min": 0,
            "description_tooltip": null,
            "_model_module": "@jupyter-widgets/controls",
            "layout": "IPY_MODEL_8417fa46eb2949b4ae632dc0f8f3f05f"
          }
        },
        "b82d4fad56fc449aa7b2a37e2822dd04": {
          "model_module": "@jupyter-widgets/controls",
          "model_name": "HTMLModel",
          "state": {
            "_view_name": "HTMLView",
            "style": "IPY_MODEL_84407dd4c5394da09b5ee951e4489c3b",
            "_dom_classes": [],
            "description": "",
            "_model_name": "HTMLModel",
            "placeholder": "​",
            "_view_module": "@jupyter-widgets/controls",
            "_model_module_version": "1.5.0",
            "value": " 9/9 [00:06&lt;00:00,  1.39it/s]",
            "_view_count": null,
            "_view_module_version": "1.5.0",
            "description_tooltip": null,
            "_model_module": "@jupyter-widgets/controls",
            "layout": "IPY_MODEL_aea6b15138964bfc8d20ac3320654827"
          }
        },
        "ca47496b424642ccb6b9075489a1910a": {
          "model_module": "@jupyter-widgets/controls",
          "model_name": "ProgressStyleModel",
          "state": {
            "_view_name": "StyleView",
            "_model_name": "ProgressStyleModel",
            "description_width": "initial",
            "_view_module": "@jupyter-widgets/base",
            "_model_module_version": "1.5.0",
            "_view_count": null,
            "_view_module_version": "1.2.0",
            "bar_color": null,
            "_model_module": "@jupyter-widgets/controls"
          }
        },
        "8417fa46eb2949b4ae632dc0f8f3f05f": {
          "model_module": "@jupyter-widgets/base",
          "model_name": "LayoutModel",
          "state": {
            "_view_name": "LayoutView",
            "grid_template_rows": null,
            "right": null,
            "justify_content": null,
            "_view_module": "@jupyter-widgets/base",
            "overflow": null,
            "_model_module_version": "1.2.0",
            "_view_count": null,
            "flex_flow": null,
            "width": null,
            "min_width": null,
            "border": null,
            "align_items": null,
            "bottom": null,
            "_model_module": "@jupyter-widgets/base",
            "top": null,
            "grid_column": null,
            "overflow_y": null,
            "overflow_x": null,
            "grid_auto_flow": null,
            "grid_area": null,
            "grid_template_columns": null,
            "flex": null,
            "_model_name": "LayoutModel",
            "justify_items": null,
            "grid_row": null,
            "max_height": null,
            "align_content": null,
            "visibility": null,
            "align_self": null,
            "height": null,
            "min_height": null,
            "padding": null,
            "grid_auto_rows": null,
            "grid_gap": null,
            "max_width": null,
            "order": null,
            "_view_module_version": "1.2.0",
            "grid_template_areas": null,
            "object_position": null,
            "object_fit": null,
            "grid_auto_columns": null,
            "margin": null,
            "display": null,
            "left": null
          }
        },
        "84407dd4c5394da09b5ee951e4489c3b": {
          "model_module": "@jupyter-widgets/controls",
          "model_name": "DescriptionStyleModel",
          "state": {
            "_view_name": "StyleView",
            "_model_name": "DescriptionStyleModel",
            "description_width": "",
            "_view_module": "@jupyter-widgets/base",
            "_model_module_version": "1.5.0",
            "_view_count": null,
            "_view_module_version": "1.2.0",
            "_model_module": "@jupyter-widgets/controls"
          }
        },
        "aea6b15138964bfc8d20ac3320654827": {
          "model_module": "@jupyter-widgets/base",
          "model_name": "LayoutModel",
          "state": {
            "_view_name": "LayoutView",
            "grid_template_rows": null,
            "right": null,
            "justify_content": null,
            "_view_module": "@jupyter-widgets/base",
            "overflow": null,
            "_model_module_version": "1.2.0",
            "_view_count": null,
            "flex_flow": null,
            "width": null,
            "min_width": null,
            "border": null,
            "align_items": null,
            "bottom": null,
            "_model_module": "@jupyter-widgets/base",
            "top": null,
            "grid_column": null,
            "overflow_y": null,
            "overflow_x": null,
            "grid_auto_flow": null,
            "grid_area": null,
            "grid_template_columns": null,
            "flex": null,
            "_model_name": "LayoutModel",
            "justify_items": null,
            "grid_row": null,
            "max_height": null,
            "align_content": null,
            "visibility": null,
            "align_self": null,
            "height": null,
            "min_height": null,
            "padding": null,
            "grid_auto_rows": null,
            "grid_gap": null,
            "max_width": null,
            "order": null,
            "_view_module_version": "1.2.0",
            "grid_template_areas": null,
            "object_position": null,
            "object_fit": null,
            "grid_auto_columns": null,
            "margin": null,
            "display": null,
            "left": null
          }
        },
        "3e164bf1534a48c2985cb3066e14e33a": {
          "model_module": "@jupyter-widgets/controls",
          "model_name": "HBoxModel",
          "state": {
            "_view_name": "HBoxView",
            "_dom_classes": [],
            "_model_name": "HBoxModel",
            "_view_module": "@jupyter-widgets/controls",
            "_model_module_version": "1.5.0",
            "_view_count": null,
            "_view_module_version": "1.5.0",
            "box_style": "",
            "layout": "IPY_MODEL_08083024f13a415ebecfcfa0ef70623a",
            "_model_module": "@jupyter-widgets/controls",
            "children": [
              "IPY_MODEL_1a40d96cce25479abd986395cd8af75b",
              "IPY_MODEL_cc54965ad0a2470baee79a95f9da34b8"
            ]
          }
        },
        "08083024f13a415ebecfcfa0ef70623a": {
          "model_module": "@jupyter-widgets/base",
          "model_name": "LayoutModel",
          "state": {
            "_view_name": "LayoutView",
            "grid_template_rows": null,
            "right": null,
            "justify_content": null,
            "_view_module": "@jupyter-widgets/base",
            "overflow": null,
            "_model_module_version": "1.2.0",
            "_view_count": null,
            "flex_flow": null,
            "width": null,
            "min_width": null,
            "border": null,
            "align_items": null,
            "bottom": null,
            "_model_module": "@jupyter-widgets/base",
            "top": null,
            "grid_column": null,
            "overflow_y": null,
            "overflow_x": null,
            "grid_auto_flow": null,
            "grid_area": null,
            "grid_template_columns": null,
            "flex": null,
            "_model_name": "LayoutModel",
            "justify_items": null,
            "grid_row": null,
            "max_height": null,
            "align_content": null,
            "visibility": null,
            "align_self": null,
            "height": null,
            "min_height": null,
            "padding": null,
            "grid_auto_rows": null,
            "grid_gap": null,
            "max_width": null,
            "order": null,
            "_view_module_version": "1.2.0",
            "grid_template_areas": null,
            "object_position": null,
            "object_fit": null,
            "grid_auto_columns": null,
            "margin": null,
            "display": null,
            "left": null
          }
        },
        "1a40d96cce25479abd986395cd8af75b": {
          "model_module": "@jupyter-widgets/controls",
          "model_name": "IntProgressModel",
          "state": {
            "_view_name": "ProgressView",
            "style": "IPY_MODEL_5bf93e1d18224d0fb5c244b9416e80ca",
            "_dom_classes": [],
            "description": "100%",
            "_model_name": "IntProgressModel",
            "bar_style": "success",
            "max": 9,
            "_view_module": "@jupyter-widgets/controls",
            "_model_module_version": "1.5.0",
            "value": 9,
            "_view_count": null,
            "_view_module_version": "1.5.0",
            "orientation": "horizontal",
            "min": 0,
            "description_tooltip": null,
            "_model_module": "@jupyter-widgets/controls",
            "layout": "IPY_MODEL_2eaf3d7ad23b4149b99580f058a7afdf"
          }
        },
        "cc54965ad0a2470baee79a95f9da34b8": {
          "model_module": "@jupyter-widgets/controls",
          "model_name": "HTMLModel",
          "state": {
            "_view_name": "HTMLView",
            "style": "IPY_MODEL_9976b387702f423fab6f1e9af1c047b1",
            "_dom_classes": [],
            "description": "",
            "_model_name": "HTMLModel",
            "placeholder": "​",
            "_view_module": "@jupyter-widgets/controls",
            "_model_module_version": "1.5.0",
            "value": " 9/9 [00:03&lt;00:00,  2.97it/s]",
            "_view_count": null,
            "_view_module_version": "1.5.0",
            "description_tooltip": null,
            "_model_module": "@jupyter-widgets/controls",
            "layout": "IPY_MODEL_83fb1f11e96442ccbc72dd9bb29ad19f"
          }
        },
        "5bf93e1d18224d0fb5c244b9416e80ca": {
          "model_module": "@jupyter-widgets/controls",
          "model_name": "ProgressStyleModel",
          "state": {
            "_view_name": "StyleView",
            "_model_name": "ProgressStyleModel",
            "description_width": "initial",
            "_view_module": "@jupyter-widgets/base",
            "_model_module_version": "1.5.0",
            "_view_count": null,
            "_view_module_version": "1.2.0",
            "bar_color": null,
            "_model_module": "@jupyter-widgets/controls"
          }
        },
        "2eaf3d7ad23b4149b99580f058a7afdf": {
          "model_module": "@jupyter-widgets/base",
          "model_name": "LayoutModel",
          "state": {
            "_view_name": "LayoutView",
            "grid_template_rows": null,
            "right": null,
            "justify_content": null,
            "_view_module": "@jupyter-widgets/base",
            "overflow": null,
            "_model_module_version": "1.2.0",
            "_view_count": null,
            "flex_flow": null,
            "width": null,
            "min_width": null,
            "border": null,
            "align_items": null,
            "bottom": null,
            "_model_module": "@jupyter-widgets/base",
            "top": null,
            "grid_column": null,
            "overflow_y": null,
            "overflow_x": null,
            "grid_auto_flow": null,
            "grid_area": null,
            "grid_template_columns": null,
            "flex": null,
            "_model_name": "LayoutModel",
            "justify_items": null,
            "grid_row": null,
            "max_height": null,
            "align_content": null,
            "visibility": null,
            "align_self": null,
            "height": null,
            "min_height": null,
            "padding": null,
            "grid_auto_rows": null,
            "grid_gap": null,
            "max_width": null,
            "order": null,
            "_view_module_version": "1.2.0",
            "grid_template_areas": null,
            "object_position": null,
            "object_fit": null,
            "grid_auto_columns": null,
            "margin": null,
            "display": null,
            "left": null
          }
        },
        "9976b387702f423fab6f1e9af1c047b1": {
          "model_module": "@jupyter-widgets/controls",
          "model_name": "DescriptionStyleModel",
          "state": {
            "_view_name": "StyleView",
            "_model_name": "DescriptionStyleModel",
            "description_width": "",
            "_view_module": "@jupyter-widgets/base",
            "_model_module_version": "1.5.0",
            "_view_count": null,
            "_view_module_version": "1.2.0",
            "_model_module": "@jupyter-widgets/controls"
          }
        },
        "83fb1f11e96442ccbc72dd9bb29ad19f": {
          "model_module": "@jupyter-widgets/base",
          "model_name": "LayoutModel",
          "state": {
            "_view_name": "LayoutView",
            "grid_template_rows": null,
            "right": null,
            "justify_content": null,
            "_view_module": "@jupyter-widgets/base",
            "overflow": null,
            "_model_module_version": "1.2.0",
            "_view_count": null,
            "flex_flow": null,
            "width": null,
            "min_width": null,
            "border": null,
            "align_items": null,
            "bottom": null,
            "_model_module": "@jupyter-widgets/base",
            "top": null,
            "grid_column": null,
            "overflow_y": null,
            "overflow_x": null,
            "grid_auto_flow": null,
            "grid_area": null,
            "grid_template_columns": null,
            "flex": null,
            "_model_name": "LayoutModel",
            "justify_items": null,
            "grid_row": null,
            "max_height": null,
            "align_content": null,
            "visibility": null,
            "align_self": null,
            "height": null,
            "min_height": null,
            "padding": null,
            "grid_auto_rows": null,
            "grid_gap": null,
            "max_width": null,
            "order": null,
            "_view_module_version": "1.2.0",
            "grid_template_areas": null,
            "object_position": null,
            "object_fit": null,
            "grid_auto_columns": null,
            "margin": null,
            "display": null,
            "left": null
          }
        },
        "503962526a834685a3f37aa1b622fa56": {
          "model_module": "@jupyter-widgets/controls",
          "model_name": "HBoxModel",
          "state": {
            "_view_name": "HBoxView",
            "_dom_classes": [],
            "_model_name": "HBoxModel",
            "_view_module": "@jupyter-widgets/controls",
            "_model_module_version": "1.5.0",
            "_view_count": null,
            "_view_module_version": "1.5.0",
            "box_style": "",
            "layout": "IPY_MODEL_0009905e702545a1af208b45c9046058",
            "_model_module": "@jupyter-widgets/controls",
            "children": [
              "IPY_MODEL_bb93e5c88b3e4bbd9840aeee2cbd2938",
              "IPY_MODEL_4d9ff410158a4e5f9ecd00ad8e527ba8"
            ]
          }
        },
        "0009905e702545a1af208b45c9046058": {
          "model_module": "@jupyter-widgets/base",
          "model_name": "LayoutModel",
          "state": {
            "_view_name": "LayoutView",
            "grid_template_rows": null,
            "right": null,
            "justify_content": null,
            "_view_module": "@jupyter-widgets/base",
            "overflow": null,
            "_model_module_version": "1.2.0",
            "_view_count": null,
            "flex_flow": null,
            "width": null,
            "min_width": null,
            "border": null,
            "align_items": null,
            "bottom": null,
            "_model_module": "@jupyter-widgets/base",
            "top": null,
            "grid_column": null,
            "overflow_y": null,
            "overflow_x": null,
            "grid_auto_flow": null,
            "grid_area": null,
            "grid_template_columns": null,
            "flex": null,
            "_model_name": "LayoutModel",
            "justify_items": null,
            "grid_row": null,
            "max_height": null,
            "align_content": null,
            "visibility": null,
            "align_self": null,
            "height": null,
            "min_height": null,
            "padding": null,
            "grid_auto_rows": null,
            "grid_gap": null,
            "max_width": null,
            "order": null,
            "_view_module_version": "1.2.0",
            "grid_template_areas": null,
            "object_position": null,
            "object_fit": null,
            "grid_auto_columns": null,
            "margin": null,
            "display": null,
            "left": null
          }
        },
        "bb93e5c88b3e4bbd9840aeee2cbd2938": {
          "model_module": "@jupyter-widgets/controls",
          "model_name": "IntProgressModel",
          "state": {
            "_view_name": "ProgressView",
            "style": "IPY_MODEL_ad63fcfb56434cdc9a4672d006295e65",
            "_dom_classes": [],
            "description": "100%",
            "_model_name": "IntProgressModel",
            "bar_style": "success",
            "max": 9,
            "_view_module": "@jupyter-widgets/controls",
            "_model_module_version": "1.5.0",
            "value": 9,
            "_view_count": null,
            "_view_module_version": "1.5.0",
            "orientation": "horizontal",
            "min": 0,
            "description_tooltip": null,
            "_model_module": "@jupyter-widgets/controls",
            "layout": "IPY_MODEL_f06da7d85d684b5fb8cbb3de74d69ee4"
          }
        },
        "4d9ff410158a4e5f9ecd00ad8e527ba8": {
          "model_module": "@jupyter-widgets/controls",
          "model_name": "HTMLModel",
          "state": {
            "_view_name": "HTMLView",
            "style": "IPY_MODEL_c604843f1b0c45cdbc1db29302b14dd2",
            "_dom_classes": [],
            "description": "",
            "_model_name": "HTMLModel",
            "placeholder": "​",
            "_view_module": "@jupyter-widgets/controls",
            "_model_module_version": "1.5.0",
            "value": " 9/9 [00:04&lt;00:00,  1.83it/s]",
            "_view_count": null,
            "_view_module_version": "1.5.0",
            "description_tooltip": null,
            "_model_module": "@jupyter-widgets/controls",
            "layout": "IPY_MODEL_3980d1883eb04b659e8d164d5a0ffbc0"
          }
        },
        "ad63fcfb56434cdc9a4672d006295e65": {
          "model_module": "@jupyter-widgets/controls",
          "model_name": "ProgressStyleModel",
          "state": {
            "_view_name": "StyleView",
            "_model_name": "ProgressStyleModel",
            "description_width": "initial",
            "_view_module": "@jupyter-widgets/base",
            "_model_module_version": "1.5.0",
            "_view_count": null,
            "_view_module_version": "1.2.0",
            "bar_color": null,
            "_model_module": "@jupyter-widgets/controls"
          }
        },
        "f06da7d85d684b5fb8cbb3de74d69ee4": {
          "model_module": "@jupyter-widgets/base",
          "model_name": "LayoutModel",
          "state": {
            "_view_name": "LayoutView",
            "grid_template_rows": null,
            "right": null,
            "justify_content": null,
            "_view_module": "@jupyter-widgets/base",
            "overflow": null,
            "_model_module_version": "1.2.0",
            "_view_count": null,
            "flex_flow": null,
            "width": null,
            "min_width": null,
            "border": null,
            "align_items": null,
            "bottom": null,
            "_model_module": "@jupyter-widgets/base",
            "top": null,
            "grid_column": null,
            "overflow_y": null,
            "overflow_x": null,
            "grid_auto_flow": null,
            "grid_area": null,
            "grid_template_columns": null,
            "flex": null,
            "_model_name": "LayoutModel",
            "justify_items": null,
            "grid_row": null,
            "max_height": null,
            "align_content": null,
            "visibility": null,
            "align_self": null,
            "height": null,
            "min_height": null,
            "padding": null,
            "grid_auto_rows": null,
            "grid_gap": null,
            "max_width": null,
            "order": null,
            "_view_module_version": "1.2.0",
            "grid_template_areas": null,
            "object_position": null,
            "object_fit": null,
            "grid_auto_columns": null,
            "margin": null,
            "display": null,
            "left": null
          }
        },
        "c604843f1b0c45cdbc1db29302b14dd2": {
          "model_module": "@jupyter-widgets/controls",
          "model_name": "DescriptionStyleModel",
          "state": {
            "_view_name": "StyleView",
            "_model_name": "DescriptionStyleModel",
            "description_width": "",
            "_view_module": "@jupyter-widgets/base",
            "_model_module_version": "1.5.0",
            "_view_count": null,
            "_view_module_version": "1.2.0",
            "_model_module": "@jupyter-widgets/controls"
          }
        },
        "3980d1883eb04b659e8d164d5a0ffbc0": {
          "model_module": "@jupyter-widgets/base",
          "model_name": "LayoutModel",
          "state": {
            "_view_name": "LayoutView",
            "grid_template_rows": null,
            "right": null,
            "justify_content": null,
            "_view_module": "@jupyter-widgets/base",
            "overflow": null,
            "_model_module_version": "1.2.0",
            "_view_count": null,
            "flex_flow": null,
            "width": null,
            "min_width": null,
            "border": null,
            "align_items": null,
            "bottom": null,
            "_model_module": "@jupyter-widgets/base",
            "top": null,
            "grid_column": null,
            "overflow_y": null,
            "overflow_x": null,
            "grid_auto_flow": null,
            "grid_area": null,
            "grid_template_columns": null,
            "flex": null,
            "_model_name": "LayoutModel",
            "justify_items": null,
            "grid_row": null,
            "max_height": null,
            "align_content": null,
            "visibility": null,
            "align_self": null,
            "height": null,
            "min_height": null,
            "padding": null,
            "grid_auto_rows": null,
            "grid_gap": null,
            "max_width": null,
            "order": null,
            "_view_module_version": "1.2.0",
            "grid_template_areas": null,
            "object_position": null,
            "object_fit": null,
            "grid_auto_columns": null,
            "margin": null,
            "display": null,
            "left": null
          }
        }
      }
    }
  },
  "cells": [
    {
      "cell_type": "code",
      "metadata": {
        "id": "Y0hLHIZIHZ3y",
        "colab_type": "code",
        "colab": {}
      },
      "source": [
        "import numpy as np\n",
        "import random\n",
        "import matplotlib.pyplot as plt\n",
        "from matplotlib import cm\n",
        "import math\n",
        "from matplotlib.patches import Circle\n",
        "import mpl_toolkits.mplot3d.art3d as art3d\n",
        "from tqdm.notebook import tqdm"
      ],
      "execution_count": 0,
      "outputs": []
    },
    {
      "cell_type": "code",
      "metadata": {
        "id": "AU80VM2MBPKT",
        "colab_type": "code",
        "colab": {}
      },
      "source": [
        "# Ensure reproducibility\n",
        "random.seed(11)\n",
        "np.random.seed(11)"
      ],
      "execution_count": 0,
      "outputs": []
    },
    {
      "cell_type": "markdown",
      "metadata": {
        "id": "MYLC3RHOFeTx",
        "colab_type": "text"
      },
      "source": [
        "# Water Maze Template"
      ]
    },
    {
      "cell_type": "code",
      "metadata": {
        "id": "2PZmR873HZ33",
        "colab_type": "code",
        "colab": {}
      },
      "source": [
        "####################################################################################################\n",
        "# watermaze module\n",
        "####################################################################################################\n",
        "class watermaze(object):\n",
        "    \n",
        "    \"\"\"\n",
        "    This class defines a set of functions for simulating a rat moving in a water-maze.\n",
        "    \n",
        "    For the purposes of this assignment, you should be using the move function to \n",
        "    determine the next state of the environment at each time-step of the simulation.\n",
        "    \n",
        "    See the demo of its usage after the module code.\n",
        "    \"\"\"\n",
        "    \n",
        "    ####################################################################\n",
        "    # the initialization function, measurements are in cm\n",
        "    def __init__(self, pool_radius=60, platform_radius=10, platform_location=np.array([25, 25]), \n",
        "                 stepsize=5.0, momentum=0.2, T=60):\n",
        "        \n",
        "        \"\"\"\n",
        "        The init function for the watermaze module.\n",
        "        \n",
        "        - The pool_radius argument specifies the radius of the pool.\n",
        "        \n",
        "        - The platform_radius argument specifies the radius of the platform.\n",
        "        \n",
        "        - The platform_location argument specifies the location of the platform centre.\n",
        "        \n",
        "        - The stepsize argument specifies how far the rat moves in one step.\n",
        "        \n",
        "        - The momentum argument specifies the ratio of old movement to new movement direction (i.e. \n",
        "        momentum = 0 means all new movement, momentum = 1 means all old movement, otherwise a mix.\n",
        "        \n",
        "        - The T argument is the maximum time for a trial in the pool.\n",
        "\n",
        "        \n",
        "        \"\"\"\n",
        "        \n",
        "        # store the given info\n",
        "        self.radius            = pool_radius\n",
        "        self.platform_radius   = platform_radius\n",
        "        self.platform_location = platform_location\n",
        "        self.stepsize          = stepsize\n",
        "        self.momentum          = momentum\n",
        "        self.T                 = T\n",
        "        \n",
        "        # a dictionary for calculating directions\n",
        "        self.direction = {\n",
        "            0:  np.pi/2,   #north\n",
        "            1:  np.pi/4,   #north-east\n",
        "            2:  0,         #east\n",
        "            3:  7*np.pi/4, #south-east\n",
        "            4:  3*np.pi/2, #south\n",
        "            5:  5*np.pi/4, #south-west\n",
        "            6:  np.pi,     #west\n",
        "            7:  3*np.pi/4, #north-west\n",
        "        }\n",
        "        \n",
        "        # initialize the dynamic variables\n",
        "        self.position = np.zeros((2,T))\n",
        "        self.t        = 0\n",
        "        self.prevdir  = np.zeros((2,))\n",
        "        \n",
        "    ####################################################################\n",
        "    # for updating the rat's position in the pool\n",
        "    def move(self, A, angle=None):\n",
        "\n",
        "        \"\"\"\n",
        "        Updates the simulated rat's position in the water-maze environment by moving it in the \n",
        "        specified direction. \n",
        "        \n",
        "        - The argument A is the last selected action, and must be an integer from 0-7, with 0 indicating N, \n",
        "        1 indicating NE, etc. \n",
        "\n",
        "        \"\"\"\n",
        "        \n",
        "        # check the A argument\n",
        "        if np.isin(A, np.arange(8)):\n",
        "            angle = self.direction[A]\n",
        "        elif A != 8:\n",
        "            raise ValueError('Error: The argument A must be an integer from 0-8, indicating which action was selected.')\n",
        "        \n",
        "        # determine the vector of direction of movement\n",
        "        newdirection = np.array([np.cos(angle), np.sin(angle)])\n",
        "        \n",
        "        # add in momentum to reflect actual swimming dynamics (and normalize, then multiply by stepsize)\n",
        "        direction = (1.0 - self.momentum)*newdirection + self.momentum*self.prevdir\n",
        "        direction = direction/np.sqrt((direction**2).sum())\n",
        "        direction = direction*self.stepsize\n",
        "        \n",
        "        # update the position, prevent the rat from actually leaving the water-maze by having it \"bounce\" off the wall \n",
        "        [newposition, direction] = self.poolreflect(self.position[:,self.t] + direction)\n",
        "\n",
        "        # if we're now at the very edge of the pool, move us in a little-bit\n",
        "        if (np.linalg.norm(newposition) == self.radius):\n",
        "            newposition = np.multiply(np.divide(newposition,np.linalg.norm(newposition)),(self.radius - 1))\n",
        "\n",
        "        # update the position, time (and previous direction)\n",
        "        self.position[:,self.t+1] = newposition\n",
        "        self.t                    = self.t + 1\n",
        "        self.prevdir              = direction\n",
        "        \n",
        "        return newposition\n",
        "        \n",
        "    ####################################################################\n",
        "    # for bouncing the rat off the wall of the pool\n",
        "    def poolreflect(self, newposition):\n",
        "        \n",
        "        \"\"\"\n",
        "        The poolreflect function returns the point in space at which the rat will be located if it \n",
        "        tries to move from the current position to newposition but bumps off the wall of the pool. \n",
        "        If the rat would not bump into the wall, then it simply returns newposition. The function \n",
        "        also returns the direction the rat will be headed.\n",
        "        \"\"\"\n",
        "\n",
        "        # determine if the newposition is outside the pool, if not, just return the new position\n",
        "        if (np.linalg.norm(newposition) < self.radius):\n",
        "            refposition  = newposition\n",
        "            refdirection = newposition - self.position[:,self.t]\n",
        "\n",
        "        else:\n",
        "\n",
        "            # determine where the rat will hit the pool wall\n",
        "            px = self.intercept(newposition)\n",
        "            \n",
        "            # get the tangent vector to this point by rotating -pi/2\n",
        "            tx = np.asarray(np.matmul([[0, 1], [-1, 0]],px))\n",
        "\n",
        "            # get the vector of the direction of movement\n",
        "            dx = px - self.position[:,self.t]\n",
        "            \n",
        "            # get the angle between the direction of movement and the tangent vector\n",
        "            theta = np.arccos(np.matmul((np.divide(tx,np.linalg.norm(tx))).transpose(),(np.divide(dx,np.linalg.norm(dx))))).item()\n",
        "\n",
        "            # rotate the remaining direction of movement vector by 2*(pi - theta) to get the reflected direction\n",
        "            ra = 2*(np.pi - theta)\n",
        "            refdirection = np.asarray(np.matmul([[np.cos(ra), -np.sin(ra)], [np.sin(ra), np.cos(ra)]],(newposition - px)))\n",
        "\n",
        "            # get the reflected position\n",
        "            refposition = px + refdirection\n",
        "\n",
        "        # make sure the new position is inside the pool\n",
        "        if (np.linalg.norm(refposition) > self.radius):\n",
        "            refposition = np.multiply((refposition/np.linalg.norm(refposition)),(self.radius - 1))\n",
        "\n",
        "        return [refposition, refdirection]\n",
        "    \n",
        "    ####################################################################\n",
        "    # for checking when/where the rat hits the edge of the pool\n",
        "    def intercept(self,newposition):\n",
        "        \n",
        "        \"\"\"\n",
        "        The intercept function returns the point in space at which the rat will intercept with the pool wall \n",
        "        if it is moving from point P1 to point P2 in space, given the pool radius.\n",
        "        \"\"\"\n",
        "        \n",
        "        # for easy referencing, set p1 and p2\n",
        "        p1 = self.position[:,self.t]\n",
        "        p2 = newposition\n",
        "\n",
        "        # calculate the terms used to find the point of intersection\n",
        "        dx = p2[0] - p1[0]\n",
        "        dy = p2[1] - p1[1]\n",
        "        dr = np.sqrt(np.power(dx,2) + np.power(dy,2))\n",
        "        D  = p1[0]*p2[1] - p2[0]*p1[1]\n",
        "        sy = np.sign(dy)\n",
        "        if (sy == 0):\n",
        "            sy = 1.0\n",
        "            \n",
        "        # calculate the potential points of intersection\n",
        "        pp1 = np.zeros((2,))\n",
        "        pp2 = np.zeros((2,))\n",
        "\n",
        "        pp1[0] = (D*dy + sy*dx*np.sqrt((np.power(self.radius,2))*(np.power(dr,2))-np.power(D,2)))/(np.power(dr,2))\n",
        "        pp2[0] = (D*dy - sy*dx*np.sqrt((np.power(self.radius,2))*(np.power(dr,2))-np.power(D,2)))/(np.power(dr,2))\n",
        "        pp1[1] = (-D*dx + np.absolute(dy)*np.sqrt((np.power(self.radius,2))*(np.power(dr,2))-np.power(D,2)))/(np.power(dr,2))\n",
        "        pp2[1] = (-D*dx - np.absolute(dy)*np.sqrt((np.power(self.radius,2))*(np.power(dr,2))-np.power(D,2)))/(np.power(dr,2))\n",
        "\n",
        "        # determine which intersection point is actually the right one (whichever is closer to p2)\n",
        "        if np.linalg.norm(p2 - pp1) < np.linalg.norm(p2 - pp2):\n",
        "            px = pp1\n",
        "\n",
        "        else:\n",
        "            px = pp2\n",
        "        \n",
        "        return px\n",
        "    \n",
        "    ####################################################################\n",
        "    # sets the start position of the rat in the pool\n",
        "    def startposition(self):\n",
        "\n",
        "        # select a random location from the main cardinal axes and calculate its vector angle\n",
        "        condition = 2*np.random.randint(0,4)\n",
        "        angle = self.direction[condition]\n",
        "\n",
        "        # print(np.asarray([np.cos(angle), np.sin(angle)]) * (self.radius - 1))\n",
        "\n",
        "        self.position[:,0] = np.asarray([np.cos(angle), np.sin(angle)]) * (self.radius - 1)\n",
        "        # left = np.asarray([-59, 0])\n",
        "        # self.position[:,0] = left\n",
        "        \n",
        "    ####################################################################\n",
        "    # plot the most recent path of the rat through the pool\n",
        "    def plotpath(self):\n",
        "        \n",
        "        # create the figure \n",
        "        fig = plt.figure()\n",
        "        ax = fig.gca()\n",
        "\n",
        "        # create the pool perimeter\n",
        "        pool_perimeter = plt.Circle((0, 0), self.radius, fill=False, color='b', ls='-')\n",
        "        ax.add_artist(pool_perimeter)\n",
        "\n",
        "        # create the platform\n",
        "        platform = plt.Circle(self.platform_location, self.platform_radius, fill=False, color='r', ls='-')\n",
        "        ax.add_artist(platform)\n",
        "\n",
        "        # plot the path\n",
        "        plt.plot(self.position[0,0:self.t],self.position[1,0:self.t], color='k', ls='-')\n",
        "\n",
        "        # plot the final location and starting location\n",
        "        plt.plot(self.position[0,0],self.position[1,0],color='b', marker='o',markersize=4, markerfacecolor='b')\n",
        "        plt.plot(self.position[0,self.t-1],self.position[1,self.t-1],color='r', marker='o',markersize=6, markerfacecolor='r')\n",
        "\n",
        "        # adjust the axis\n",
        "        ax.axis('equal')\n",
        "        ax.set_xlim((-self.radius-50, self.radius+50))\n",
        "        ax.set_ylim((-self.radius-50, self.radius+50))\n",
        "        plt.xticks(np.arange(-self.radius, self.radius+20, step=20))\n",
        "        plt.yticks(np.arange(-self.radius, self.radius+20, step=20))\n",
        "        ax.set_xlabel('X Position (cm)')\n",
        "        ax.set_ylabel('Y Position (cm)')\n",
        "\n",
        "        # turn on the grid\n",
        "        plt.grid(True)\n",
        "        plt.tight_layout()\n",
        "\n",
        "        # show the figure\n",
        "        # plt.show()\n",
        "\n",
        "        return plt, ax\n",
        "        \n",
        "    ####################################################################\n",
        "    # checks whether the time is up\n",
        "    def timeup(self):\n",
        "        \n",
        "        \"\"\"\n",
        "        Returns true if the time for the trial is finished, false otherwise.\n",
        "        \"\"\"\n",
        "        \n",
        "        return self.t > (self.T - 2)\n",
        "    \n",
        "    ####################################################################\n",
        "    # checks whether the rat has found the platform\n",
        "    def atgoal(self):\n",
        "        \n",
        "        \"\"\"\n",
        "        Returns true if the rat is on the platform, false otherwise.\n",
        "        \"\"\"\n",
        "        \n",
        "        return np.sqrt(np.sum((self.position[:,self.t] - self.platform_location)**2)) <= (self.platform_radius + 1)"
      ],
      "execution_count": 0,
      "outputs": []
    },
    {
      "cell_type": "markdown",
      "metadata": {
        "id": "itVaB-Wl0BfW",
        "colab_type": "text"
      },
      "source": [
        "## Demo"
      ]
    },
    {
      "cell_type": "code",
      "metadata": {
        "id": "P3m6UAV5HZ36",
        "colab_type": "code",
        "outputId": "bff57738-2bcf-4c20-deb1-baf26ceed9ea",
        "colab": {
          "base_uri": "https://localhost:8080/",
          "height": 0
        }
      },
      "source": [
        "# demo of how to use the watermaze module\n",
        "\n",
        "# create the watermaze object\n",
        "maze = watermaze()\n",
        "\n",
        "# set the starting location\n",
        "maze.startposition()\n",
        "\n",
        "# run forward for one trial (using random actions for sake of illustration)\n",
        "while(not maze.timeup() and not maze.atgoal()):\n",
        "    \n",
        "    # select a random action - this is what your actor critic network needs to provide\n",
        "    A = np.random.randint(0,8)\n",
        "    # move the rat\n",
        "    maze.move(A)\n",
        "    \n",
        "# plot the path\n",
        "maze.plotpath()\n",
        "\n",
        "# print out why the trial ended (note, if the rat reached the goal, then you must deliver a reward)\n",
        "if maze.atgoal():\n",
        "    print(\"Clever rat, you found the platform in\", maze.t, \"seconds!\")\n",
        "else:\n",
        "    print(\"No more time for you dumb-dumb...\")"
      ],
      "execution_count": 297,
      "outputs": [
        {
          "output_type": "stream",
          "text": [
            "[59. -5.]\n",
            "[55.87652476 -8.90434405]\n",
            "[50.87886782 -8.75129157]\n",
            "[ 46.91674271 -11.80113823]\n",
            "[ 45.96987966 -16.71066472]\n",
            "[ 43.77744314 -21.20435163]\n",
            "[ 45.56135278 -25.87529012]\n",
            "[ 50.24129531 -27.63544294]\n",
            "[ 54.42166206 -25.06700368]\n",
            "[ 50.78097972 -28.49416462]\n",
            "[ 47.18662528 -31.9698827 ]\n",
            "[ 42.6401618  -34.05066856]\n",
            "[ 38.03376741 -32.10615558]\n",
            "[ 33.06873331 -32.69644062]\n",
            "[ 29.3973621  -36.09070539]\n",
            "[ 29.87920321 -41.06743415]\n",
            "[ 31.83144762 -45.6705572 ]\n",
            "[ 35.24565833 -47.98921666]\n",
            "[ 30.96624977 -47.39875077]\n",
            "[ 26.09685748 -48.53410035]\n",
            "[ 22.24859567 -45.34178441]\n",
            "[ 17.25600517 -45.06968129]\n",
            "[ 13.45699375 -41.81891027]\n",
            "[  8.46711562 -41.50092248]\n",
            "[  3.70651405 -43.02954038]\n",
            "[  0.44395848 -46.81843615]\n",
            "[ -1.48778365 -51.43020071]\n",
            "[  0.75833093 -55.89729924]\n",
            "[  5.51640191 -57.4337759 ]\n",
            "[ 10.44118962 -58.29775855]\n",
            "[ 14.08965151 -54.87888068]\n",
            "[ 19.0274091  -55.66536011]\n",
            "[ 21.95077945 -53.35904638]\n",
            "[ 26.31782213 -50.92410527]\n",
            "[ 30.35340395 -47.97214331]\n",
            "[ 34.17791299 -44.75140882]\n",
            "[ 38.86109866 -45.49550441]\n",
            "[ 38.85111962 -40.49551437]\n",
            "[ 34.88001714 -37.45736607]\n",
            "[ 30.2078784  -35.67660231]\n",
            "[ 28.3508944 -31.0342311]\n",
            "[ 23.68813316 -29.22905586]\n",
            "[ 19.43584237 -26.59884237]\n",
            "[ 14.48359678 -27.28823604]\n",
            "[  9.49835671 -27.67213893]\n",
            "[  4.72643577 -26.1792322 ]\n",
            "[  1.44731109 -22.40466714]\n",
            "[ -0.49580411 -17.79768295]\n",
            "[ -5.26837131 -16.30684349]\n",
            "[ -9.38760009 -19.14091375]\n",
            "[-11.96872936 -23.42317621]\n",
            "[-10.39612193 -28.16942798]\n",
            "[-13.13520609 -32.35241948]\n",
            "[-18.12408518 -32.68571428]\n",
            "[-22.88733758 -31.16537662]\n",
            "[-27.02951251 -33.96580281]\n",
            "[-31.75766809 -35.59200845]\n",
            "[-36.69556578 -34.80640907]\n",
            "[-40.52858418 -31.59580633]\n",
            "No more time for you dumb-dumb...\n"
          ],
          "name": "stdout"
        },
        {
          "output_type": "display_data",
          "data": {
            "image/png": "[encoded data removed]",
            "text/plain": [
              "<Figure size 432x288 with 1 Axes>"
            ]
          },
          "metadata": {
            "tags": [],
            "needs_background": "light"
          }
        }
      ]
    },
    {
      "cell_type": "markdown",
      "metadata": {
        "id": "hfbhafTEXnEm",
        "colab_type": "text"
      },
      "source": [
        "# TD Models"
      ]
    },
    {
      "cell_type": "markdown",
      "metadata": {
        "id": "k7oJQ0O7X6NP",
        "colab_type": "text"
      },
      "source": [
        "## Helper Functions: Even Distribution of Points on Circle Using Golden Ratio"
      ]
    },
    {
      "cell_type": "code",
      "metadata": {
        "id": "fmwqQwnoYG_2",
        "colab_type": "code",
        "colab": {
          "base_uri": "https://localhost:8080/",
          "height": 0
        },
        "outputId": "da2366ff-4d56-4270-a6fc-828fbe3c4e01"
      },
      "source": [
        "def sunflower(n, circle_radius, alpha=0):\n",
        "    '''\n",
        "    Evenly distribute n points in a circle using golden ratio\n",
        "    Return coordinates of points\n",
        "    From: stackoverflow.com/questions/28567166/uniformly-distribute-x-points-inside-a-circle\n",
        "    \n",
        "    Parameters:\n",
        "        alpha: higher means more points placed on circle boundary/perimeter\n",
        "    '''\n",
        "    n_boundary_ptns = round(alpha * np.sqrt(n)) # number of boundary points\n",
        "    phi = (np.sqrt(5)+1)/2                      # golden ratio\n",
        "    ptns = np.zeros((n, 2))\n",
        "\n",
        "    for i in range(1, n+1):\n",
        "        r = radius(i, n, n_boundary_ptns, circle_radius);\n",
        "        theta = 2*np.pi*i/phi**2\n",
        "        ptns[i-1] = r*np.cos(theta), r*np.sin(theta)\n",
        "    return ptns\n",
        "\n",
        "def radius(ptn_idx, n, n_boundary_ptns, circle_radius):\n",
        "    '''\n",
        "    Return radius, or distance of point from center\n",
        "    '''\n",
        "    r = circle_radius # put on boundary\n",
        "    if ptn_idx <= n-n_boundary_ptns:\n",
        "        r *= np.sqrt(ptn_idx-1/2)/np.sqrt(n-(n_boundary_ptns+1)/2) # apply square root\n",
        "    return r\n",
        "\n",
        "# Plot pool\n",
        "fig = plt.figure()\n",
        "ax = plt.gca()\n",
        "pool_radius = 60\n",
        "pool_perimeter = plt.Circle((0, 0), pool_radius, fill=False, color='b', ls='-')\n",
        "ax.add_artist(pool_perimeter)\n",
        "\n",
        "# Plot place fields\n",
        "centers = sunflower(177, pool_radius, alpha=0)\n",
        "for x,y in centers:\n",
        "    # plt.plot(x, y, color='r', marker='+', markersize=1, markerfacecolor='r')\n",
        "    place_field = plt.Circle((x,y), 4.8, fill=False, color='r', ls='-', lw=0.2)\n",
        "    ax.add_artist(place_field)\n",
        "\n",
        "# Adjust axes\n",
        "ax.axis('equal')\n",
        "ax.set_xlim((-pool_radius-50, pool_radius+50))\n",
        "ax.set_ylim((-pool_radius-50, pool_radius+50))\n",
        "plt.xticks(np.arange(-pool_radius, pool_radius+20, step=20))\n",
        "plt.yticks(np.arange(-pool_radius, pool_radius+20, step=20))\n",
        "ax.set_xlabel('X Position (cm)')\n",
        "ax.set_ylabel('Y Position (cm)')\n",
        "\n",
        "# Turn on grid\n",
        "plt.grid(True)\n",
        "plt.tight_layout()\n",
        "plt.show()"
      ],
      "execution_count": 209,
      "outputs": [
        {
          "output_type": "display_data",
          "data": {
            "image/png": "[encoded data removed]",
            "text/plain": [
              "<Figure size 432x288 with 1 Axes>"
            ]
          },
          "metadata": {
            "tags": [],
            "needs_background": "light"
          }
        }
      ]
    },
    {
      "cell_type": "markdown",
      "metadata": {
        "id": "LUK0HjLnXAAe",
        "colab_type": "text"
      },
      "source": [
        "## Environment - Encapsulates Water Maze and Agent (Actor-Critic or Coordinate-Based Actor-Critic)"
      ]
    },
    {
      "cell_type": "code",
      "metadata": {
        "id": "48JXOUwZXFEd",
        "colab_type": "code",
        "colab": {}
      },
      "source": [
        "class Environment:\n",
        "    '''\n",
        "    At any given time t, the environment provides the animal with a reward Rt.\n",
        "    Reward always 0 except when rat reaches platform, then it's 1.\n",
        "    '''\n",
        "    def __init__(self, agent):\n",
        "        self.maze  = watermaze()\n",
        "        agent.maze = self.maze\n",
        "        agent.S    = sunflower(agent.n, agent.maze.radius) # Init place fields centers\n",
        "        self.agent = agent\n",
        "\n",
        "        self.startposition()\n",
        "    \n",
        "    def sim_ep(self):\n",
        "        '''\n",
        "        Simulate an episode\n",
        "        '''\n",
        "        while not self.maze.timeup() and not self.maze.atgoal():\n",
        "            # Choose action\n",
        "            a = self.agent.action()\n",
        "            # Move the rat and update weights, reward if goal reached\n",
        "            self.agent.move(a)\n",
        "    \n",
        "    def restart(self):\n",
        "        '''\n",
        "        Reset maze\n",
        "        '''\n",
        "        self.maze.position[:] = 0\n",
        "        self.maze.prevdir[:]  = 0\n",
        "        self.maze.t           = 0\n",
        "        self.startposition()\n",
        "    \n",
        "    def startposition(self):\n",
        "        '''\n",
        "        Get new start position and restart agent\n",
        "        '''\n",
        "        self.maze.startposition()\n",
        "        self.agent.restart()\n",
        "\n",
        "    def plot(self, fields=False):\n",
        "        '''\n",
        "        Plot path and place fields\n",
        "        '''\n",
        "        plt, ax = self.maze.plotpath()\n",
        "\n",
        "        # Plot place fields\n",
        "        if fields:\n",
        "            for x, y in self.agent.S:\n",
        "                # plt.plot(x, y, color='b', marker='+',markersize=1, markerfacecolor='b')\n",
        "                place_field = plt.Circle((x,y), self.agent.sigma/2, fill=False, color='g', ls='-', lw=0.2)\n",
        "                ax.add_artist(place_field)\n",
        "        plt.show()"
      ],
      "execution_count": 0,
      "outputs": []
    },
    {
      "cell_type": "markdown",
      "metadata": {
        "id": "nDuyn-7zFoaP",
        "colab_type": "text"
      },
      "source": [
        "## Pure Actor-Critic: Reward-Based Navigation"
      ]
    },
    {
      "cell_type": "code",
      "metadata": {
        "id": "4NZH8-zkHZ4A",
        "colab_type": "code",
        "colab": {}
      },
      "source": [
        "class ActorCritic:\n",
        "    def __init__(self, n=250, sigma=5, discount=0.9, etaa=0.01, etac=0.03):        \n",
        "        self.maze = None\n",
        "        self.S    = None # Place fields centers\n",
        "\n",
        "        self.PC = np.zeros(n)      # Place cells\n",
        "        self.A  = np.zeros(8)      # Action cells\n",
        "        self.Z  = np.zeros((8, n)) # Action cells weights\n",
        "        self.C  = 0                # Critic cell\n",
        "        self.W  = np.zeros(n)      # Critic cells weights\n",
        "\n",
        "        self.n        = n        # Number of place cells\n",
        "        self.sigma    = sigma    # Place field breadth\n",
        "        self.discount = discount # Discount factor\n",
        "        self.etaa     = etaa     # Actor learning rate\n",
        "        self.etac     = etac     # Critic learning rate\n",
        "\n",
        "        self.p = np.zeros(2) # Position\n",
        "        self.R = 0           # Reward\n",
        "\n",
        "    def action(self):\n",
        "        '''\n",
        "        Pick action, integer in [0,7], according to preferences\n",
        "        '''\n",
        "        return np.random.choice(8, 1, p=self.P())[0]\n",
        "\n",
        "    def move(self, a):\n",
        "        '''\n",
        "        Move agent and update weights\n",
        "        '''\n",
        "        # Save terms to compute weight updates\n",
        "        C_prev = self.Cp()\n",
        "        PC_prev = self.fp()\n",
        "        self.PC = PC_prev\n",
        "\n",
        "        # Move agent\n",
        "        self._move(a)\n",
        "\n",
        "        # Update weights\n",
        "        self.update(a, C_prev, PC_prev)\n",
        "        self.PC = self.fp()\n",
        "    \n",
        "    def update(self, a, C_prev, PC_prev):\n",
        "        '''\n",
        "        Update weights using predicition error (Equation 7),\n",
        "        dW (Equation 8), and dZ (Equation 10)\n",
        "        '''\n",
        "        if self.R == 0:\n",
        "            # Reward = 0: not yet reached goal\n",
        "            d  = self.discount*self.Cp() - C_prev # Equation 7: prediction error\n",
        "            dW = self.etac * d * PC_prev\n",
        "            self.Z += self.dZ(a, d, PC_prev) # Update action cells weights\n",
        "        else:\n",
        "            # Reward == 1: reached goal\n",
        "            d  = self.R - self.C # Equation 7: prediction error\n",
        "            dW = self.etac * d * self.fp()\n",
        "\n",
        "        self.W += dW # Update critic cells weights\n",
        "\n",
        "    def fp(self):\n",
        "        '''\n",
        "        Equation 1:\n",
        "        Place cells activity\n",
        "        '''\n",
        "        p_dist = np.linalg.norm(self.p - self.S, axis=1) \n",
        "        return np.exp(-p_dist/(2*self.sigma**2))\n",
        "    \n",
        "    def Cp(self):\n",
        "        '''\n",
        "        Equation 2:\n",
        "        Critic cell firing rate\n",
        "        '''\n",
        "        self.C = self.W.dot(self.fp())\n",
        "        return self.C\n",
        "    \n",
        "    def P(self):\n",
        "        '''\n",
        "        Equation 9:\n",
        "        Actual swimming direction is chosen stochastically\n",
        "        with probabilities P related to action cell activity\n",
        "        '''\n",
        "        A = self.Ap()\n",
        "        P = np.exp(2*A)/np.sum(np.exp(2*A))\n",
        "        return P\n",
        "    \n",
        "    def Ap(self):\n",
        "        '''\n",
        "        Action cells activity.\n",
        "        Relative preference for each action at location p\n",
        "        '''\n",
        "        self.A = self.fp().dot(self.Z.T)\n",
        "        return self.A\n",
        "    \n",
        "    def dZ(self, a, d, PC):\n",
        "        '''\n",
        "        Equation 10:\n",
        "        Action cells weights update\n",
        "        '''\n",
        "        g = np.zeros((8,1))\n",
        "        g[a] = 1\n",
        "        dZ = self.etaa * d * g.dot(PC.reshape(1, self.n))\n",
        "        return dZ\n",
        "    \n",
        "    def _move(self, a):\n",
        "        '''\n",
        "        Move agent, update position and save reward\n",
        "        '''\n",
        "        new_position = self.maze.move(a)\n",
        "        self.p       = new_position\n",
        "        self.R       = int(self.maze.atgoal()) # Save reward\n",
        "    \n",
        "    def restart(self):\n",
        "        '''\n",
        "        Reset position and reward\n",
        "        '''\n",
        "        self.p = self.maze.position[:,0]\n",
        "        self.R = 0\n",
        "    \n",
        "    def reset(self):\n",
        "        '''\n",
        "        Restart and reset weights\n",
        "        '''\n",
        "        self.restart()\n",
        "        self.PC[:] = 0\n",
        "        self.A[:]  = 0\n",
        "        self.Z[:]  = 0\n",
        "        self.C     = 0\n",
        "        self.W[:]  = 0"
      ],
      "execution_count": 0,
      "outputs": []
    },
    {
      "cell_type": "markdown",
      "metadata": {
        "id": "56fUyX8X-Dv8",
        "colab_type": "text"
      },
      "source": [
        "### Demo"
      ]
    },
    {
      "cell_type": "code",
      "metadata": {
        "id": "3GuNorFsaRzD",
        "colab_type": "code",
        "outputId": "b22671d7-7400-4b63-dd18-6c67336c90eb",
        "colab": {
          "base_uri": "https://localhost:8080/",
          "height": 745,
          "referenced_widgets": [
            "8fcb4840f29c491d905b43397fb318ef",
            "93365fdcd3fa4a88947763321b161f97",
            "8d5c13b71e72434383d96322864e72fd",
            "1fdf616523e641ccbba25c2b24e83089",
            "33c29e97b8b144298aaf02745d51df29",
            "946f091dc3d244f8ba50275bcf30fbf7",
            "d7ed0fc1f36d43418be8c3731da71be2",
            "49051a1b9157436ba00475ab8843b463"
          ]
        }
      },
      "source": [
        "agent = ActorCritic()\n",
        "env = Environment(agent)\n",
        "\n",
        "succ = 0\n",
        "n_eps = 500\n",
        "\n",
        "for ep in tqdm(range(n_eps)):\n",
        "    # Simulate an episode\n",
        "    env.sim_ep()\n",
        "        \n",
        "    # Plot first and last path\n",
        "    if ep == 0 or ep == n_eps-1:\n",
        "        print('Episode:', ep)\n",
        "        env.plot(fields=True)\n",
        "        print(f'Success, t = {env.maze.t}\\n' if env.maze.atgoal() else 'Failure\\n')\n",
        "\n",
        "    # print out why the trial ended (note, if the rat reached the goal, then you must deliver a reward)\n",
        "    if env.maze.atgoal(): succ += 1\n",
        "\n",
        "    # Reset water maze and starting position\n",
        "    env.restart()\n",
        "\n",
        "print('Success rate:', succ/n_eps)"
      ],
      "execution_count": 304,
      "outputs": [
        {
          "output_type": "display_data",
          "data": {
            "application/vnd.jupyter.widget-view+json": {
              "model_id": "8fcb4840f29c491d905b43397fb318ef",
              "version_minor": 0,
              "version_major": 2
            },
            "text/plain": [
              "HBox(children=(IntProgress(value=0, max=500), HTML(value='')))"
            ]
          },
          "metadata": {
            "tags": []
          }
        },
        {
          "output_type": "stream",
          "text": [
            "Episode: 0\n"
          ],
          "name": "stdout"
        },
        {
          "output_type": "display_data",
          "data": {
            "image/png": "[encoded data removed]",
            "text/plain": [
              "<Figure size 432x288 with 1 Axes>"
            ]
          },
          "metadata": {
            "tags": [],
            "needs_background": "light"
          }
        },
        {
          "output_type": "stream",
          "text": [
            "Failure\n",
            "\n",
            "Episode: 499\n"
          ],
          "name": "stdout"
        },
        {
          "output_type": "display_data",
          "data": {
            "image/png": "[encoded data removed]",
            "text/plain": [
              "<Figure size 432x288 with 1 Axes>"
            ]
          },
          "metadata": {
            "tags": [],
            "needs_background": "light"
          }
        },
        {
          "output_type": "stream",
          "text": [
            "Success, t = 19\n",
            "\n",
            "\n",
            "Success rate: 0.936\n"
          ],
          "name": "stdout"
        }
      ]
    },
    {
      "cell_type": "markdown",
      "metadata": {
        "id": "sdN8-XsZsNl2",
        "colab_type": "text"
      },
      "source": [
        "## Coordinate-Based Actor-Critic"
      ]
    },
    {
      "cell_type": "code",
      "metadata": {
        "id": "5E6EsnMSslnu",
        "colab_type": "code",
        "colab": {}
      },
      "source": [
        "class CoordBased(ActorCritic):\n",
        "    def __init__(self, lamb=0.9, etaxy=np.array([[0.01],[0.01]]), etaa_coord=0.01, **kwargs):\n",
        "        super().__init__(**kwargs)\n",
        "\n",
        "        self.XYgoal = None                  # Remembered goal coordinates\n",
        "        self.XY     = np.zeros(2)           # Cur position cells activity\n",
        "        self.Wxy    = np.zeros((2, self.n)) # Cur position cells weights\n",
        "        self.A      = np.zeros(9)           # Action cells + new abstract action cell\n",
        "        self.Z      = np.zeros((9, self.n)) # Action cells weights with new row for abstract action cell\n",
        "\n",
        "        self.etaxy      = etaxy      # Wxy learning rate\n",
        "        self.etaa_coord = etaa_coord # Abstract action cell learning rate\n",
        "\n",
        "        self.lamb      = lamb             # Lambda for Wxy update dWxy\n",
        "        self.S_lamb_fp = np.zeros(self.n) # Summation term for dWxy\n",
        "    \n",
        "    def action(self):\n",
        "        '''\n",
        "        Pick action, integer in [0,8], according to preferences\n",
        "        '''\n",
        "        P = self.P()\n",
        "        a = np.random.choice(9, 1, p=P)[0]\n",
        "\n",
        "        # Choose a normal action if no remembered goal coordinates\n",
        "        if a == 8 and self.XYgoal is None:\n",
        "            P = P[:-1] + P[-1]/8\n",
        "            a = np.random.choice(8, 1, p=P)[0]\n",
        "\n",
        "        return a\n",
        "    \n",
        "    def move(self, a):\n",
        "        '''\n",
        "        Move agent and update weights\n",
        "        '''\n",
        "        # Save terms to compute weight updates\n",
        "        C_prev   = self.Cp()\n",
        "        PC_prev  = self.fp()\n",
        "        XYp_prev = self.XYp()\n",
        "        p_prev   = self.p # Save current position\n",
        "        self.PC  = PC_prev\n",
        "        \n",
        "        # Update summation term for dWxy\n",
        "        self.S_lamb_fp = self.lamb * self.S_lamb_fp + PC_prev\n",
        "\n",
        "        # If abstract action chosen, compute angle\n",
        "        angle = None\n",
        "        if a == 8:\n",
        "            diff  = self.XYgoal - self.p\n",
        "            angle = np.arctan2(diff[1], diff[0])\n",
        "\n",
        "        # Move agent\n",
        "        self._move(a, angle)\n",
        "\n",
        "        # Update weights\n",
        "        self.update(a, C_prev, PC_prev, XYp_prev, p_prev)\n",
        "    \n",
        "    def update(self, a, C_prev, PC_prev, XYp_prev, p_prev):\n",
        "        '''\n",
        "        Update weights\n",
        "        '''\n",
        "        super().update(a, C_prev, PC_prev)\n",
        "\n",
        "        # Update Wxy\n",
        "        dWxy = self.dWxy(XYp_prev, p_prev)\n",
        "        self.Wxy += dWxy\n",
        "\n",
        "        if self.R == 0:\n",
        "            # Hasn't reached goal\n",
        "            # Forget previous goal coordintes if reached location thought to be goal\n",
        "            if self.XYgoal is not None and self.is_at_prev_goal():\n",
        "                self.XYgoal = None\n",
        "        else:\n",
        "            # Reached goal, remember goal location\n",
        "            self.XYgoal = self.maze.platform_location\n",
        "    \n",
        "    def dZ(self, a, d, PC):\n",
        "        '''\n",
        "        Equation 10:\n",
        "        Action cells weights update\n",
        "        '''\n",
        "        g    = np.zeros((9,1))\n",
        "        g[a] = 1\n",
        "\n",
        "        # Choose etaa_coord as learning rate if chose abstract action, else use etaa\n",
        "        eta = self.etaa_coord if a == 8 else self.etaa\n",
        "        return eta * d * g.dot(PC.reshape(1, self.n))\n",
        "\n",
        "    def XYp(self):\n",
        "        '''\n",
        "        Cur position cells activity\n",
        "        '''\n",
        "        self.XY = self.Wxy.dot(self.fp())\n",
        "        return self.XY\n",
        "    \n",
        "    def dWxy(self, XYp_prev, p_prev):\n",
        "        '''\n",
        "        Equations 11 and 12:\n",
        "        Wxy weights update\n",
        "        '''\n",
        "        dxy       = (self.p - p_prev).reshape(2,1)\n",
        "        diff      = (self.XYp() - XYp_prev).reshape(2,1)\n",
        "        S_lamb_fp = self.S_lamb_fp.reshape(1,self.n)\n",
        "        return self.etaxy*(dxy - diff.dot(S_lamb_fp))\n",
        "    \n",
        "    def _move(self, a, angle):\n",
        "        '''\n",
        "        Move agent, update position and save reward\n",
        "        '''\n",
        "        new_position = self.maze.move(a, angle)\n",
        "        self.p       = new_position\n",
        "        self.R       = int(self.maze.atgoal()) # Save reward\n",
        "    \n",
        "    def is_at_prev_goal(self):\n",
        "        '''\n",
        "        Check if reached remembered goal coordinates\n",
        "        '''\n",
        "        return np.sqrt(np.sum((self.p - self.XYgoal)**2)) <= (self.maze.platform_radius + 1)"
      ],
      "execution_count": 0,
      "outputs": []
    },
    {
      "cell_type": "markdown",
      "metadata": {
        "id": "hXudiNh5gu8p",
        "colab_type": "text"
      },
      "source": [
        "### Demo"
      ]
    },
    {
      "cell_type": "code",
      "metadata": {
        "id": "OOXaGdhoRsdR",
        "colab_type": "code",
        "outputId": "1b2b6765-be97-4fa9-8d0b-2935f3c83830",
        "colab": {
          "base_uri": "https://localhost:8080/",
          "height": 745,
          "referenced_widgets": [
            "ed4780436297472fb1a0bc57a23d2bb0",
            "7a2f89930a874c26bb325fe87a64e238",
            "e9903d4761fa4d25b030765b6dfbf207",
            "980c8042e9e8498ba9a0f3dc058b9ad6",
            "ce4334f5547d40a68a554b7623386cf0",
            "cfb8aa783b744631848df9aef6fe7061",
            "d16408e7bbbd4239b80e589b09157642",
            "34f90d0294684753994407d9eece6289"
          ]
        }
      },
      "source": [
        "agent = CoordBased()\n",
        "env = Environment(agent)\n",
        "\n",
        "n_eps = 100\n",
        "succ = 0\n",
        "\n",
        "for ep in tqdm(range(n_eps)):\n",
        "    # Simulate an episode\n",
        "    env.sim_ep()\n",
        "        \n",
        "    # Plot first and last path\n",
        "    if ep == 0 or ep == n_eps-1:\n",
        "        print('Episode:', ep)\n",
        "        env.plot(fields=True)\n",
        "        print(f'Success, t = {env.maze.t}\\n' if env.maze.atgoal() else 'Failure\\n')\n",
        "\n",
        "    if env.maze.atgoal(): succ += 1\n",
        "\n",
        "    # Reset water maze and starting position\n",
        "    env.restart()\n",
        "\n",
        "print('Success rate:', succ/n_eps)"
      ],
      "execution_count": 215,
      "outputs": [
        {
          "output_type": "display_data",
          "data": {
            "application/vnd.jupyter.widget-view+json": {
              "model_id": "ed4780436297472fb1a0bc57a23d2bb0",
              "version_minor": 0,
              "version_major": 2
            },
            "text/plain": [
              "HBox(children=(IntProgress(value=0), HTML(value='')))"
            ]
          },
          "metadata": {
            "tags": []
          }
        },
        {
          "output_type": "stream",
          "text": [
            "Episode: 0\n"
          ],
          "name": "stdout"
        },
        {
          "output_type": "display_data",
          "data": {
            "image/png": "[encoded data removed]",
            "text/plain": [
              "<Figure size 432x288 with 1 Axes>"
            ]
          },
          "metadata": {
            "tags": [],
            "needs_background": "light"
          }
        },
        {
          "output_type": "stream",
          "text": [
            "Failure\n",
            "\n",
            "Episode: 99\n"
          ],
          "name": "stdout"
        },
        {
          "output_type": "display_data",
          "data": {
            "image/png": "[encoded data removed]",
            "text/plain": [
              "<Figure size 432x288 with 1 Axes>"
            ]
          },
          "metadata": {
            "tags": [],
            "needs_background": "light"
          }
        },
        {
          "output_type": "stream",
          "text": [
            "Success, t = 16\n",
            "\n",
            "\n",
            "Success rate: 0.95\n"
          ],
          "name": "stdout"
        }
      ]
    },
    {
      "cell_type": "markdown",
      "metadata": {
        "id": "oPyIjQOiFtPd",
        "colab_type": "text"
      },
      "source": [
        "# Plots: Path Lengths Measured Across Simulations"
      ]
    },
    {
      "cell_type": "markdown",
      "metadata": {
        "id": "QPMtsos0QALf",
        "colab_type": "text"
      },
      "source": [
        "## Helper Function: Plot Path Lengths Across Simultions"
      ]
    },
    {
      "cell_type": "code",
      "metadata": {
        "id": "IQVyQjcHFuY-",
        "colab_type": "code",
        "colab": {}
      },
      "source": [
        "def test(agent,\n",
        "         n_eps          = 100,   # Episodes to simulate for single-platform case\n",
        "         multiplatform  = False, # Multplatform flag\n",
        "         platform_sched = None,  # Platform schedule as {day: platform location} dict\n",
        "         days           = None,  # Multiplatform: number of days\n",
        "         ptns_per_day   = None,  # Multiplatform: number of points per day\n",
        "         eps_per_ptn    = None,  # Multiplatform: number of episodes per point\n",
        "         plot           = True): # Plot flag\n",
        "    '''\n",
        "    Single-platform case (RMW task):\n",
        "        Simulate `n_eps` episodes, plot first and last paths,\n",
        "        print success rate over all episodes\n",
        "    \n",
        "    Multiplatform case (DMP task):\n",
        "        Simulate across `days` days according multiplatform parameters.\n",
        "        Plot mean and standard error path lengths across simulations\n",
        "\n",
        "        Note:\n",
        "        `platform_sched` can include only one platform location\n",
        "        to simulate single-platform case/RMW task\n",
        "    '''\n",
        "    env = Environment(agent)\n",
        "    agent.reset()\n",
        "\n",
        "    # Single-platform case\n",
        "    if not multiplatform:\n",
        "        singleplatform(env, n_eps, plot)\n",
        "        return\n",
        "\n",
        "    # Multiplatform case\n",
        "    succ = 0\n",
        "\n",
        "    means = np.zeros(ptns_per_day*days) # Path length means\n",
        "    stds  = np.zeros(ptns_per_day*days) # Path length standard deviations\n",
        "    \n",
        "    path_lens = np.zeros(eps_per_ptn) # Store path lengths for a data point\n",
        "    \n",
        "    for day in tqdm(range(days)):\n",
        "        # Move platform according to schedule\n",
        "        if day in platform_sched:\n",
        "            env.maze.platform_location = platform_sched[day]\n",
        "\n",
        "        # Collect mean and std deviation for each point\n",
        "        for ptn in range(ptns_per_day):\n",
        "            for ep in range(eps_per_ptn):\n",
        "                env.sim_ep()\n",
        "\n",
        "                path          = env.maze.position[:,:env.maze.t+1].T\n",
        "                path_len      = sum(np.linalg.norm(path[i+1]-path[i]) for i in range(path.shape[0]-1))\n",
        "                path_lens[ep] = path_len\n",
        "\n",
        "                # Success\n",
        "                if env.maze.atgoal(): succ += 1\n",
        "                env.restart()\n",
        "\n",
        "            means[ptns_per_day*day+ptn] = np.mean(path_lens)\n",
        "            stds[ptns_per_day*day+ptn]  = np.std(path_lens)\n",
        "            path_lens[:] = 0\n",
        "\n",
        "    stderrs = stds/np.sqrt(eps_per_ptn) # Path length standard errors\n",
        "\n",
        "    if plot:\n",
        "        fig = plt.figure(figsize=(10,8))\n",
        "        ax  = fig.gca()\n",
        "        ax.set_xlabel('DAY', fontsize = 18)\n",
        "        ax.set_ylabel('PATH LENGTH (cm)', fontsize = 18)\n",
        "        ax.set_ylim((0, 300))\n",
        "\n",
        "        plt.xticks([i for i in range(1, days+1)])\n",
        "\n",
        "        xaxis = np.array([1+d+p/ptns_per_day for d in range(days) for p in range(ptns_per_day)])\n",
        "        # plt.errorbar(xaxis, means, stderrs, fmt='_-k', linewidth=1, capsize=3)\n",
        "        for day in range(days):\n",
        "            start = day * ptns_per_day\n",
        "            end   = start + ptns_per_day \n",
        "\n",
        "            plt.errorbar(xaxis[start:end], means[start:end], stderrs[start:end], fmt='_-k', linewidth=1, capsize=3)\n",
        "        \n",
        "        fig = plt.gcf()\n",
        "        plt.show()\n",
        "    \n",
        "    print('Success rate:', succ/(days*ptns_per_day*eps_per_ptn))\n",
        "    if plot: return fig\n",
        "\n",
        "\n",
        "def singleplatform(env, n_eps=100, plot=True):\n",
        "    '''\n",
        "    Single-platform case\n",
        "    '''\n",
        "    succ = 0\n",
        "\n",
        "    for ep in tqdm(range(n_eps)):\n",
        "        env.sim_ep() # Simulate an episode\n",
        "            \n",
        "        # plot the path\n",
        "        if plot and (ep == 0 or ep == n_eps-1):\n",
        "            print('Episode:', ep)\n",
        "            env.plot(fields=True)\n",
        "            print(f'Success, t = {env.maze.t}\\n' if env.maze.atgoal() else 'Failure\\n')\n",
        "\n",
        "        if env.maze.atgoal(): succ += 1            \n",
        "        env.restart()\n",
        "\n",
        "    print('Success rate:', succ/n_eps)"
      ],
      "execution_count": 0,
      "outputs": []
    },
    {
      "cell_type": "markdown",
      "metadata": {
        "id": "bIRhurjZV6rv",
        "colab_type": "text"
      },
      "source": [
        "## Actor-Critic Performance"
      ]
    },
    {
      "cell_type": "markdown",
      "metadata": {
        "id": "1NsNIfgyWDtJ",
        "colab_type": "text"
      },
      "source": [
        "### RMW Task"
      ]
    },
    {
      "cell_type": "code",
      "metadata": {
        "id": "Zx42NvNohnx4",
        "colab_type": "code",
        "colab": {
          "base_uri": "https://localhost:8080/",
          "height": 575,
          "referenced_widgets": [
            "56a9b79a8f4d4efcbf9195f8827882bf",
            "e50979f8e93d4a83a9741ff4b92748f1",
            "1dbac21bf6e84068badc68d72437d3e2",
            "f0ff6d8356ee47a18091cbdbba307337",
            "f93f4d4b7cc344faa692bb434fdc27a6",
            "18c279792d644cbdb3b7152a45dece02",
            "ac14a40c15f748f187b6134b7fda23d4",
            "877c0d1082a14d34a4e98f0d6d9383ec"
          ]
        },
        "outputId": "5e4f27fa-e903-4029-dc87-3d70c6b13dba"
      },
      "source": [
        "# Same platform location for 7 days, then moved to opposite quadrant\n",
        "rmw_params = {\n",
        "    'platform_sched': {\n",
        "        0: np.array([25, 25]),\n",
        "        7: np.array([-25, -25])\n",
        "    },\n",
        "    'days': 9,\n",
        "    'ptns_per_day': 4,\n",
        "    'eps_per_ptn': 10,\n",
        "}\n",
        "agent = ActorCritic()\n",
        "fig = test(agent, multiplatform=True, **rmw_params)\n",
        "fig.savefig('ac_rmw.png')"
      ],
      "execution_count": 281,
      "outputs": [
        {
          "output_type": "display_data",
          "data": {
            "application/vnd.jupyter.widget-view+json": {
              "model_id": "56a9b79a8f4d4efcbf9195f8827882bf",
              "version_minor": 0,
              "version_major": 2
            },
            "text/plain": [
              "HBox(children=(IntProgress(value=0, max=9), HTML(value='')))"
            ]
          },
          "metadata": {
            "tags": []
          }
        },
        {
          "output_type": "stream",
          "text": [
            "\n"
          ],
          "name": "stdout"
        },
        {
          "output_type": "display_data",
          "data": {
            "image/png": "[encoded data removed]",
            "text/plain": [
              "<Figure size 720x576 with 1 Axes>"
            ]
          },
          "metadata": {
            "tags": [],
            "needs_background": "light"
          }
        },
        {
          "output_type": "stream",
          "text": [
            "Success rate: 0.7111111111111111\n"
          ],
          "name": "stdout"
        }
      ]
    },
    {
      "cell_type": "markdown",
      "metadata": {
        "id": "pWkEjrTHWVSf",
        "colab_type": "text"
      },
      "source": [
        "### DMP Task"
      ]
    },
    {
      "cell_type": "code",
      "metadata": {
        "id": "AuZkhdrZWW8Q",
        "colab_type": "code",
        "colab": {
          "base_uri": "https://localhost:8080/",
          "height": 575,
          "referenced_widgets": [
            "07e629b87ded4e07aa8f642492795ca5",
            "a686f8538108407d8dddb57182bca2b1",
            "d582727d515b4b4d8d7f8c73e3a18d5a",
            "b82d4fad56fc449aa7b2a37e2822dd04",
            "ca47496b424642ccb6b9075489a1910a",
            "8417fa46eb2949b4ae632dc0f8f3f05f",
            "84407dd4c5394da09b5ee951e4489c3b",
            "aea6b15138964bfc8d20ac3320654827"
          ]
        },
        "outputId": "27220541-22c5-43f6-9665-fe64dc7d3cf7"
      },
      "source": [
        "# New platform location every day\n",
        "dmp_params = {\n",
        "    'platform_sched': {\n",
        "        0: np.array([25, 25]),\n",
        "        1: np.array([-25, -25]),\n",
        "        2: np.array([-25, 25]),\n",
        "        3: np.array([25, -25]),\n",
        "        7: np.array([-25, 0]),\n",
        "        8: np.array([25, 0]),\n",
        "        6: np.array([0, 25]),\n",
        "        5: np.array([0, -25]),\n",
        "        4: np.array([0, 0]),\n",
        "    },\n",
        "    'days': 9,\n",
        "    'ptns_per_day': 4,\n",
        "    'eps_per_ptn': 10,\n",
        "}\n",
        "agent = ActorCritic()\n",
        "fig = test(agent, multiplatform=True, **dmp_params)\n",
        "fig.savefig('ac_dmp.png')"
      ],
      "execution_count": 284,
      "outputs": [
        {
          "output_type": "display_data",
          "data": {
            "application/vnd.jupyter.widget-view+json": {
              "model_id": "07e629b87ded4e07aa8f642492795ca5",
              "version_minor": 0,
              "version_major": 2
            },
            "text/plain": [
              "HBox(children=(IntProgress(value=0, max=9), HTML(value='')))"
            ]
          },
          "metadata": {
            "tags": []
          }
        },
        {
          "output_type": "stream",
          "text": [
            "\n"
          ],
          "name": "stdout"
        },
        {
          "output_type": "display_data",
          "data": {
            "image/png": "[encoded data removed]",
            "text/plain": [
              "<Figure size 720x576 with 1 Axes>"
            ]
          },
          "metadata": {
            "tags": [],
            "needs_background": "light"
          }
        },
        {
          "output_type": "stream",
          "text": [
            "Success rate: 0.5888888888888889\n"
          ],
          "name": "stdout"
        }
      ]
    },
    {
      "cell_type": "markdown",
      "metadata": {
        "id": "A6o4IEknWdN3",
        "colab_type": "text"
      },
      "source": [
        "## Coordinate-Based Actor-Critic Performance"
      ]
    },
    {
      "cell_type": "markdown",
      "metadata": {
        "id": "jqzDF7M4WjJL",
        "colab_type": "text"
      },
      "source": [
        "### RMW Task"
      ]
    },
    {
      "cell_type": "code",
      "metadata": {
        "id": "7iFX2nAWWgYl",
        "colab_type": "code",
        "colab": {
          "base_uri": "https://localhost:8080/",
          "height": 575,
          "referenced_widgets": [
            "3e164bf1534a48c2985cb3066e14e33a",
            "08083024f13a415ebecfcfa0ef70623a",
            "1a40d96cce25479abd986395cd8af75b",
            "cc54965ad0a2470baee79a95f9da34b8",
            "5bf93e1d18224d0fb5c244b9416e80ca",
            "2eaf3d7ad23b4149b99580f058a7afdf",
            "9976b387702f423fab6f1e9af1c047b1",
            "83fb1f11e96442ccbc72dd9bb29ad19f"
          ]
        },
        "outputId": "3bdb34e9-39ac-48f0-aa3a-5597ac29ba12"
      },
      "source": [
        "agent = CoordBased()\n",
        "fig = test(agent, multiplatform=True, **rmw_params)\n",
        "fig.savefig('cac_rmw.png')"
      ],
      "execution_count": 286,
      "outputs": [
        {
          "output_type": "display_data",
          "data": {
            "application/vnd.jupyter.widget-view+json": {
              "model_id": "3e164bf1534a48c2985cb3066e14e33a",
              "version_minor": 0,
              "version_major": 2
            },
            "text/plain": [
              "HBox(children=(IntProgress(value=0, max=9), HTML(value='')))"
            ]
          },
          "metadata": {
            "tags": []
          }
        },
        {
          "output_type": "stream",
          "text": [
            "\n"
          ],
          "name": "stdout"
        },
        {
          "output_type": "display_data",
          "data": {
            "image/png": "[encoded data removed]",
            "text/plain": [
              "<Figure size 720x576 with 1 Axes>"
            ]
          },
          "metadata": {
            "tags": [],
            "needs_background": "light"
          }
        },
        {
          "output_type": "stream",
          "text": [
            "Success rate: 0.9722222222222222\n"
          ],
          "name": "stdout"
        }
      ]
    },
    {
      "cell_type": "markdown",
      "metadata": {
        "id": "cNmFcCamWk5v",
        "colab_type": "text"
      },
      "source": [
        "### DMP Task"
      ]
    },
    {
      "cell_type": "code",
      "metadata": {
        "id": "ywQ4IRK7XCTC",
        "colab_type": "code",
        "colab": {
          "base_uri": "https://localhost:8080/",
          "height": 575,
          "referenced_widgets": [
            "503962526a834685a3f37aa1b622fa56",
            "0009905e702545a1af208b45c9046058",
            "bb93e5c88b3e4bbd9840aeee2cbd2938",
            "4d9ff410158a4e5f9ecd00ad8e527ba8",
            "ad63fcfb56434cdc9a4672d006295e65",
            "f06da7d85d684b5fb8cbb3de74d69ee4",
            "c604843f1b0c45cdbc1db29302b14dd2",
            "3980d1883eb04b659e8d164d5a0ffbc0"
          ]
        },
        "outputId": "2d96c491-0950-4ed9-fba6-b75d978fb34e"
      },
      "source": [
        "agent = CoordBased()\n",
        "fig = test(agent, multiplatform=True, **dmp_params)\n",
        "fig.savefig('cac_dmp.png')"
      ],
      "execution_count": 291,
      "outputs": [
        {
          "output_type": "display_data",
          "data": {
            "application/vnd.jupyter.widget-view+json": {
              "model_id": "503962526a834685a3f37aa1b622fa56",
              "version_minor": 0,
              "version_major": 2
            },
            "text/plain": [
              "HBox(children=(IntProgress(value=0, max=9), HTML(value='')))"
            ]
          },
          "metadata": {
            "tags": []
          }
        },
        {
          "output_type": "stream",
          "text": [
            "\n"
          ],
          "name": "stdout"
        },
        {
          "output_type": "display_data",
          "data": {
            "image/png": "[encoded data removed]",
            "text/plain": [
              "<Figure size 720x576 with 1 Axes>"
            ]
          },
          "metadata": {
            "tags": [],
            "needs_background": "light"
          }
        },
        {
          "output_type": "stream",
          "text": [
            "Success rate: 0.8416666666666667\n"
          ],
          "name": "stdout"
        }
      ]
    }
  ]
}